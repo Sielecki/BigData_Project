{
 "cells": [
  {
   "cell_type": "markdown",
   "metadata": {},
   "source": [
    "# PCA Analysis"
   ]
  },
  {
   "cell_type": "code",
   "execution_count": 4,
   "metadata": {},
   "outputs": [],
   "source": [
    "import matplotlib.pyplot as plt\n",
    "import seaborn as sns\n",
    "import pandas as pd\n",
    "import numpy as np\n",
    "\n",
    "from sklearn.decomposition import PCA\n",
    "from sklearn.model_selection import train_test_split, GridSearchCV\n",
    "from sklearn.linear_model import SGDRegressor, LinearRegression, Lasso, Ridge\n",
    "from sklearn.preprocessing import StandardScaler, MinMaxScaler, Normalizer\n",
    "from sklearn.metrics import mean_squared_error, mean_absolute_error, mean_absolute_percentage_error\n",
    "from sklearn.ensemble import RandomForestRegressor\n",
    "plt.style.use('seaborn')"
   ]
  },
  {
   "cell_type": "code",
   "execution_count": 5,
   "metadata": {},
   "outputs": [],
   "source": [
    "data_df = pd.read_csv('Data\\\\processed.csv')"
   ]
  },
  {
   "cell_type": "markdown",
   "metadata": {},
   "source": [
    "# Preprocessing + PCA"
   ]
  },
  {
   "cell_type": "code",
   "execution_count": 6,
   "metadata": {},
   "outputs": [],
   "source": [
    "# to_normalize = data_df[data_df.columns.difference(['KWH'])]\n",
    "# kwh = data_df['KWH']\n",
    "# data_df.drop(columns = 'KWH', inplace=True)\n",
    "\n",
    "# # df_to_normalize = MinMaxScaler().fit_transform(to_normalize)\n",
    "# df_to_normalize = Normalizer().fit_transform(to_normalize)\n",
    "# df_to_normalize = pd.DataFrame(df_to_normalize)\n",
    "# df_to_normalize.columns = data_df.columns\n",
    "\n",
    "# data_df = pd.concat([df_to_normalize, kwh], axis = 1)"
   ]
  },
  {
   "cell_type": "code",
   "execution_count": 7,
   "metadata": {},
   "outputs": [],
   "source": [
    "def plotVariance(X):\n",
    "    pca = PCA(n_components=20)\n",
    "    pca.fit(X)\n",
    "    plt.figure()\n",
    "    plt.plot(np.cumsum(pca.explained_variance_ratio_))\n",
    "    plt.xlabel('Number of Components')\n",
    "    plt.ylabel('Variance (%)')\n",
    "    plt.title('Explained Variance')\n",
    "    plt.show()"
   ]
  },
  {
   "cell_type": "code",
   "execution_count": 8,
   "metadata": {},
   "outputs": [],
   "source": [
    "X = data_df[data_df.columns.difference(['KWH'])]\n",
    "Y = data_df['KWH']\n",
    "\n",
    "X_train, X_test, Y_train, Y_test = train_test_split(X, Y, test_size=0.3, shuffle = True, random_state = 42)"
   ]
  },
  {
   "cell_type": "code",
   "execution_count": 9,
   "metadata": {},
   "outputs": [
    {
     "data": {
      "image/png": "[encoded data removed]",
      "text/plain": [
       "<Figure size 576x396 with 1 Axes>"
      ]
     },
     "metadata": {},
     "output_type": "display_data"
    }
   ],
   "source": [
    "plotVariance(X_train)"
   ]
  },
  {
   "cell_type": "code",
   "execution_count": 10,
   "metadata": {},
   "outputs": [
    {
     "name": "stdout",
     "output_type": "stream",
     "text": [
      "(8456, 10) (8456,) (3625, 10) (3625,)\n"
     ]
    }
   ],
   "source": [
    "PCA_train = PCA(n_components=10)\n",
    "PCA_train.fit(X_train, Y_train)\n",
    "\n",
    "X_train = PCA_train.transform(X_train)\n",
    "X_test = PCA_train.transform(X_test)\n",
    "\n",
    "print(X_train.shape, Y_train.shape, X_test.shape, Y_test.shape)"
   ]
  },
  {
   "cell_type": "code",
   "execution_count": 11,
   "metadata": {},
   "outputs": [
    {
     "name": "stdout",
     "output_type": "stream",
     "text": [
      "(8456, 10) (8456,) (3625, 10) (3625,)\n"
     ]
    }
   ],
   "source": [
    "scaler = MinMaxScaler().fit(X_train)\n",
    "X_train = scaler.transform(X_train)\n",
    "X_test = scaler.transform(X_test)\n",
    "\n",
    "print(X_train.shape, Y_train.shape, X_test.shape, Y_test.shape)"
   ]
  },
  {
   "cell_type": "markdown",
   "metadata": {},
   "source": [
    "# Model Implementation"
   ]
  },
  {
   "cell_type": "code",
   "execution_count": 12,
   "metadata": {},
   "outputs": [],
   "source": [
    "rr = Ridge(\n",
    "    random_state=42,\n",
    "    solver = 'auto'\n",
    ")\n",
    "\n",
    "rf = RandomForestRegressor(\n",
    "    oob_score = True, \n",
    "    random_state = 42,\n",
    ")\n",
    "\n",
    "sgd = SGDRegressor( \n",
    "    random_state=42,\n",
    "    penalty='l1', \n",
    ")\n",
    "\n",
    "ls = Lasso(\n",
    "    random_state = 42 \n",
    ")\n",
    "\n",
    "estimators = [rr, rf, sgd, ls]"
   ]
  },
  {
   "cell_type": "code",
   "execution_count": 13,
   "metadata": {},
   "outputs": [],
   "source": [
    "param_rr = {'alpha': [0.0001, 0.001, 0.01, 0.1, 1]} \n",
    "param_rf = {'n_estimators': [5, 50, 100, 200, 500], 'max_depth': [1, 5, 10, 15], 'min_samples_leaf': [1, 5, 10]}\n",
    "param_sgd = {'alpha': [0.001, 0.01, 0.1, 1, 10], 'loss': ['squared_epsilon_insensitive', 'huber', 'epsilon_insensitive', 'squared_loss'], 'learning_rate': ['optimal', 'adaptive', 'invscaling']}\n",
    "param_ls = {\"selection\": [\"cyclic\", \"random\"], 'alpha': [0.0001, 0.001, 0.01, 0.1, 1]}\n",
    "\n",
    "params = [param_rr, param_rf, param_sgd, param_ls]"
   ]
  },
  {
   "cell_type": "code",
   "execution_count": 14,
   "metadata": {},
   "outputs": [],
   "source": [
    "def performingGridSearch(estimators, X_train, Y_train, X_test, Y_test, params):\n",
    "    scores_train = []\n",
    "    scores_test = []\n",
    " \n",
    "    for index, estimator in enumerate(estimators):\n",
    "        model = GridSearchCV(estimator, param_grid = params[index], cv = 3, n_jobs=-1, scoring='r2', verbose = 3)\n",
    "        model.fit(X_train, Y_train)\n",
    "        best_params = model.best_params_\n",
    "        scores_train.append(model.score(X_train, Y_train))\n",
    "\n",
    "        print(\"\\n\\n Model: {} \\n\\n Best params: {} \".format(estimator, best_params))\n",
    "        scores_test.append(model.score(X_test, Y_test))\n",
    "\n",
    "    return scores_train, scores_test"
   ]
  },
  {
   "cell_type": "code",
   "execution_count": 15,
   "metadata": {},
   "outputs": [
    {
     "name": "stdout",
     "output_type": "stream",
     "text": [
      "Fitting 3 folds for each of 5 candidates, totalling 15 fits\n",
      "\n",
      "\n",
      " Model: Ridge(random_state=42) \n",
      "\n",
      " Best params: {'alpha': 0.0001} \n",
      "Fitting 3 folds for each of 60 candidates, totalling 180 fits\n",
      "\n",
      "\n",
      " Model: RandomForestRegressor(oob_score=True, random_state=42) \n",
      "\n",
      " Best params: {'max_depth': 15, 'min_samples_leaf': 1, 'n_estimators': 500} \n",
      "Fitting 3 folds for each of 60 candidates, totalling 180 fits\n",
      "\n",
      "\n",
      " Model: SGDRegressor(penalty='l1', random_state=42) \n",
      "\n",
      " Best params: {'alpha': 0.001, 'learning_rate': 'adaptive', 'loss': 'squared_epsilon_insensitive'} \n",
      "Fitting 3 folds for each of 10 candidates, totalling 30 fits\n",
      "\n",
      "\n",
      " Model: Lasso(random_state=42) \n",
      "\n",
      " Best params: {'alpha': 0.001, 'selection': 'cyclic'} \n"
     ]
    }
   ],
   "source": [
    "scores_train, scores_val = performingGridSearch(estimators, X_train, Y_train, X_test, Y_test, params)"
   ]
  },
  {
   "cell_type": "code",
   "execution_count": 17,
   "metadata": {},
   "outputs": [
    {
     "name": "stdout",
     "output_type": "stream",
     "text": [
      "                     0             1             2         3\n",
      "Estimators       Ridge  RandomForest  SGDRegressor     Lasso\n",
      "Scores Train   0.98424      0.992099      0.984223   0.98424\n",
      "Scores Val    0.971972      0.966002      0.972029  0.971972\n"
     ]
    }
   ],
   "source": [
    "estimators_names = ['Ridge', 'RandomForest', 'SGDRegressor', 'Lasso']\n",
    "models_scores = pd.DataFrame([estimators_names, scores_train, scores_val], columns = None, index = ['Estimators', 'Scores Train', 'Scores Val'])\n",
    "print(models_scores)\n",
    "\n",
    "lr = LinearRegression()\n",
    "rr = Ridge(\n",
    "    random_state=42,\n",
    "    solver = 'auto',\n",
    "    alpha = 0.0001\n",
    ")\n",
    "rf = RandomForestRegressor(\n",
    "    oob_score = True,  \n",
    "    random_state = 42,\n",
    "    max_depth= 15, \n",
    "    min_samples_leaf= 1, \n",
    "    n_estimators = 500\n",
    ")\n",
    "sgd = SGDRegressor(\n",
    "    random_state = 42,\n",
    "    shuffle= True, \n",
    "    early_stopping= True,\n",
    "    validation_fraction= 0.2,\n",
    "    loss = 'squared_epsilon_insensitive',\n",
    "    penalty = 'l1',\n",
    "    alpha = 1,\n",
    "    learning_rate = 'adaptive',\n",
    "    tol = 0.001, \n",
    ")\n",
    "\n",
    "ls = Lasso(\n",
    "    random_state = 42,\n",
    "    alpha = 0.001, \n",
    "    selection = 'cyclic' \n",
    ")\n",
    "\n",
    "estimators = [lr, rr, rf, sgd, ls]"
   ]
  },
  {
   "cell_type": "code",
   "execution_count": 18,
   "metadata": {},
   "outputs": [
    {
     "name": "stdout",
     "output_type": "stream",
     "text": [
      "LinearRegression()\n",
      "Ridge(alpha=0.0001, random_state=42)\n",
      "RandomForestRegressor(max_depth=15, n_estimators=500, oob_score=True,\n",
      "                      random_state=42)\n",
      "SGDRegressor(alpha=1, early_stopping=True, learning_rate='adaptive',\n",
      "             loss='squared_epsilon_insensitive', penalty='l1', random_state=42,\n",
      "             validation_fraction=0.2)\n",
      "Lasso(alpha=0.001, random_state=42)\n"
     ]
    }
   ],
   "source": [
    "r2_score_train = []\n",
    "r2_score_test = []\n",
    "mape_score_train = []\n",
    "mape_score_test = []\n",
    "for estimator in estimators:\n",
    "    print(estimator)\n",
    "    estimator.fit(X_train, Y_train)\n",
    "    r2_score_train.append(estimator.score(X_train, Y_train))\n",
    "    y_train_pred = estimator.predict(X_train)\n",
    "    mape_score_train.append(mean_absolute_percentage_error(Y_train, y_train_pred))\n",
    "\n",
    "    r2_score_test.append(estimator.score(X_test, Y_test))\n",
    "    y_test_pred = estimator.predict(X_test)\n",
    "    mape_score_test.append(mean_absolute_percentage_error(Y_test, y_test_pred))"
   ]
  },
  {
   "cell_type": "code",
   "execution_count": 19,
   "metadata": {},
   "outputs": [
    {
     "data": {
      "text/html": [
       "<div>\n",
       "<style scoped>\n",
       "    .dataframe tbody tr th:only-of-type {\n",
       "        vertical-align: middle;\n",
       "    }\n",
       "\n",
       "    .dataframe tbody tr th {\n",
       "        vertical-align: top;\n",
       "    }\n",
       "\n",
       "    .dataframe thead th {\n",
       "        text-align: right;\n",
       "    }\n",
       "</style>\n",
       "<table border=\"1\" class=\"dataframe\">\n",
       "  <thead>\n",
       "    <tr style=\"text-align: right;\">\n",
       "      <th></th>\n",
       "      <th>0</th>\n",
       "      <th>1</th>\n",
       "      <th>2</th>\n",
       "      <th>3</th>\n",
       "      <th>4</th>\n",
       "    </tr>\n",
       "  </thead>\n",
       "  <tbody>\n",
       "    <tr>\n",
       "      <th>Estimators</th>\n",
       "      <td>LinearRegression</td>\n",
       "      <td>Ridge</td>\n",
       "      <td>RandomForest</td>\n",
       "      <td>SGDRegressor</td>\n",
       "      <td>Lasso</td>\n",
       "    </tr>\n",
       "    <tr>\n",
       "      <th>r2_score_train</th>\n",
       "      <td>0.98424</td>\n",
       "      <td>0.98424</td>\n",
       "      <td>0.992099</td>\n",
       "      <td>0.982597</td>\n",
       "      <td>0.98424</td>\n",
       "    </tr>\n",
       "    <tr>\n",
       "      <th>r2_score_test</th>\n",
       "      <td>0.971972</td>\n",
       "      <td>0.971972</td>\n",
       "      <td>0.966002</td>\n",
       "      <td>0.971168</td>\n",
       "      <td>0.971972</td>\n",
       "    </tr>\n",
       "    <tr>\n",
       "      <th>mape_score_train</th>\n",
       "      <td>0.05939</td>\n",
       "      <td>0.059392</td>\n",
       "      <td>0.043681</td>\n",
       "      <td>0.071925</td>\n",
       "      <td>0.059392</td>\n",
       "    </tr>\n",
       "    <tr>\n",
       "      <th>mape_score_test</th>\n",
       "      <td>0.058946</td>\n",
       "      <td>0.058948</td>\n",
       "      <td>0.084458</td>\n",
       "      <td>0.069366</td>\n",
       "      <td>0.058949</td>\n",
       "    </tr>\n",
       "  </tbody>\n",
       "</table>\n",
       "</div>"
      ],
      "text/plain": [
       "                                 0         1             2             3  \\\n",
       "Estimators        LinearRegression     Ridge  RandomForest  SGDRegressor   \n",
       "r2_score_train             0.98424   0.98424      0.992099      0.982597   \n",
       "r2_score_test             0.971972  0.971972      0.966002      0.971168   \n",
       "mape_score_train           0.05939  0.059392      0.043681      0.071925   \n",
       "mape_score_test           0.058946  0.058948      0.084458      0.069366   \n",
       "\n",
       "                         4  \n",
       "Estimators           Lasso  \n",
       "r2_score_train     0.98424  \n",
       "r2_score_test     0.971972  \n",
       "mape_score_train  0.059392  \n",
       "mape_score_test   0.058949  "
      ]
     },
     "execution_count": 19,
     "metadata": {},
     "output_type": "execute_result"
    }
   ],
   "source": [
    "estimators_names = ['LinearRegression','Ridge', 'RandomForest', 'SGDRegressor', 'Lasso']\n",
    "models_scores = pd.DataFrame([estimators_names, r2_score_train, r2_score_test, mape_score_train, mape_score_test], columns = None, index = ['Estimators', 'r2_score_train', 'r2_score_test', 'mape_score_train', 'mape_score_test'])\n",
    "models_scores"
   ]
  },
  {
   "cell_type": "code",
   "execution_count": null,
   "metadata": {},
   "outputs": [],
   "source": []
  }
 ],
 "metadata": {
  "kernelspec": {
   "display_name": "Python 3",
   "language": "python",
   "name": "python3"
  },
  "language_info": {
   "codemirror_mode": {
    "name": "ipython",
    "version": 3
   },
   "file_extension": ".py",
   "mimetype": "text/x-python",
   "name": "python",
   "nbconvert_exporter": "python",
   "pygments_lexer": "ipython3",
   "version": "3.7.10"
  }
 },
 "nbformat": 4,
 "nbformat_minor": 2
}
