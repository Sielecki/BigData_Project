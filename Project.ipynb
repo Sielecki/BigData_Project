{
 "metadata": {
  "language_info": {
   "codemirror_mode": {
    "name": "ipython",
    "version": 3
   },
   "file_extension": ".py",
   "mimetype": "text/x-python",
   "name": "python",
   "nbconvert_exporter": "python",
   "pygments_lexer": "ipython3",
   "version": "3.8.8"
  },
  "orig_nbformat": 2,
  "kernelspec": {
   "name": "python388jvsc74a57bd0da8192b105ecda5fde0bc8abbca0e60ea790d745f01c42d02378997f9bf06136",
   "display_name": "Python 3.8.8 64-bit ('p38': conda)"
  }
 },
 "nbformat": 4,
 "nbformat_minor": 2,
 "cells": [
  {
   "cell_type": "code",
   "execution_count": 20,
   "metadata": {},
   "outputs": [],
   "source": [
    "import pandas as pd\n",
    "import matplotlib.pyplot as plt\n",
    "import seaborn as sns\n",
    "\n",
    "from sklearn.model_selection import train_test_split, GridSearchCV\n",
    "from sklearn.cluster import KMeans\n",
    "\n",
    "from sklearn.decomposition import PCA\n",
    "from sklearn.manifold import TSNE, MDS, Isomap\n",
    "\n",
    "from sklearn.linear_model import LinearRegression, Lasso\n",
    "from sklearn.preprocessing import StandardScaler, MinMaxScaler, Normalizer\n",
    "\n",
    "plt.style.use('seaborn')"
   ]
  },
  {
   "cell_type": "code",
   "execution_count": 2,
   "metadata": {},
   "outputs": [],
   "source": [
    "data = pd.read_csv('Data\\\\processed.csv')\n",
    "\n",
    "\n",
    "X = data[data.columns.difference(['KWH'])]\n",
    "Y = data['KWH']\n",
    "\n",
    "X_train, X_test, Y_train, Y_test = train_test_split(X, Y, test_size=0.3, shuffle = True, random_state = 42)"
   ]
  },
  {
   "cell_type": "code",
   "execution_count": 1,
   "metadata": {
    "tags": []
   },
   "outputs": [],
   "source": [
    "# cor = data.corr()\n",
    "# sns.heatmap(cor, cmap=plt.cm.Reds)\n",
    "# plt.show()"
   ]
  },
  {
   "cell_type": "code",
   "execution_count": 19,
   "metadata": {},
   "outputs": [
    {
     "output_type": "stream",
     "name": "stdout",
     "text": [
      "0.2439722901509197\n0.2439518073658723\n"
     ]
    }
   ],
   "source": [
    "dataTSNE = TSNE(n_components=2, random_state=42)\n",
    "\n",
    "dataTSNE_train = dataTSNE.fit_transform(X_train)\n",
    "# dataTSNE_test = dataTSNE.fit_transform(X_test.values)\n",
    "\n",
    "reg = LinearRegression().fit(dataTSNE_train, Y_train)\n",
    "print(reg.score(dataTSNE_train, Y_train))\n",
    "\n",
    "lasso = Lasso(alpha=0.1, max_iter=2000)\n",
    "lasso.fit(dataTSNE_train, Y_train)\n",
    "print(lasso.score(dataTSNE_train, Y_train))"
   ]
  },
  {
   "cell_type": "code",
   "execution_count": 18,
   "metadata": {},
   "outputs": [
    {
     "output_type": "stream",
     "name": "stdout",
     "text": [
      "-3375177696.2944727\n0.9999074262310028\n"
     ]
    }
   ],
   "source": [
    "PCA_train = PCA(n_components=5)\n",
    "PCA_train.fit(X_train, Y_train)\n",
    "\n",
    "dataPCA_train = PCA_train.transform(X_train)\n",
    "dataPCA_test = PCA_train.transform(X_test)\n",
    "\n",
    "reg = LinearRegression().fit(X_train, Y_train)\n",
    "print(reg.score(X_test, Y_test))\n",
    "\n",
    "lasso = Lasso(alpha=0.01)\n",
    "lasso.fit(X_train, Y_train)\n",
    "print(lasso.score(X_test, Y_test))"
   ]
  },
  {
   "cell_type": "code",
   "execution_count": 21,
   "metadata": {},
   "outputs": [
    {
     "output_type": "stream",
     "name": "stdout",
     "text": [
      "0.38238253682569434\n0.38235010621614174\n"
     ]
    }
   ],
   "source": [
    "isomap = Isomap(n_components=10)\n",
    "isomap = isomap.fit(X_train)\n",
    "\n",
    "dataISOMAP_train = isomap.transform(X_train)\n",
    "dataISOMAP_test = isomap.transform(X_test)\n",
    "\n",
    "reg = LinearRegression().fit(dataISOMAP_train, Y_train)\n",
    "print(reg.score(dataISOMAP_test, Y_test))\n",
    "\n",
    "lasso = Lasso(alpha=0.01)\n",
    "lasso.fit(dataISOMAP_train, Y_train)\n",
    "print(lasso.score(dataISOMAP_test, Y_test))"
   ]
  }
 ]
}