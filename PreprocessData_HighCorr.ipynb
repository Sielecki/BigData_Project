{
 "metadata": {
  "language_info": {
   "codemirror_mode": {
    "name": "ipython",
    "version": 3
   },
   "file_extension": ".py",
   "mimetype": "text/x-python",
   "name": "python",
   "nbconvert_exporter": "python",
   "pygments_lexer": "ipython3",
   "version": "3.8.8"
  },
  "orig_nbformat": 2,
  "kernelspec": {
   "name": "python388jvsc74a57bd0da8192b105ecda5fde0bc8abbca0e60ea790d745f01c42d02378997f9bf06136",
   "display_name": "Python 3.8.8 64-bit ('p38': conda)"
  }
 },
 "nbformat": 4,
 "nbformat_minor": 2,
 "cells": [
  {
   "cell_type": "code",
   "execution_count": 2,
   "metadata": {},
   "outputs": [],
   "source": [
    "import pandas as pd\n",
    "import matplotlib.pyplot as plt\n",
    "\n",
    "from sklearn.preprocessing import MinMaxScaler, Normalizer, StandardScaler, OneHotEncoder, PolynomialFeatures\n",
    "from sklearn.model_selection import train_test_split\n",
    "import seaborn as sns"
   ]
  },
  {
   "cell_type": "code",
   "execution_count": 3,
   "metadata": {},
   "outputs": [],
   "source": [
    "def get_high_cor(data, threshold = 0.2):\n",
    "    cor = data.corr().stack().reset_index().drop_duplicates()\n",
    "    cor.columns = ['FEATURE_1', 'FEATURE_2', 'CORRELATION']\n",
    "    high_cor = cor[((cor['FEATURE_1'] != cor['FEATURE_2'] ) & ((cor['CORRELATION'] >= threshold) | (cor['CORRELATION'] <= threshold * -1)))]\n",
    "    return high_cor"
   ]
  },
  {
   "cell_type": "code",
   "execution_count": 4,
   "metadata": {},
   "outputs": [],
   "source": [
    "data_df = pd.read_csv('Data\\\\recs2009_public.csv')\n",
    "data_df.dropna(axis=0,inplace=True)\n",
    "data_df.drop(columns=[\"DOEID\"],inplace=True)\n",
    "data_df.reset_index(inplace=True, drop=True)\n",
    "\n",
    "cols = data_df.columns.tolist()"
   ]
  },
  {
   "cell_type": "code",
   "execution_count": 5,
   "metadata": {
    "tags": []
   },
   "outputs": [],
   "source": [
    "for i in range(len(data_df.index)):\n",
    "    for col in cols:\n",
    "        if col != \"METROMICRO\" and col != \"UR\":\n",
    "            if data_df.at[i, col] < 0:\n",
    "                data_df.at[i, col] = 0\n",
    "\n",
    "        elif col == \"UR\":\n",
    "            if data_df.at[i, col] == \"U\":\n",
    "                data_df.at[i, col] = 0\n",
    "            else:\n",
    "                data_df.at[i, col] = 1\n",
    "        else:\n",
    "            if data_df.at[i, col] == \"METRO\":\n",
    "                data_df.at[i, col] = 0\n",
    "            if data_df.at[i, col] == \"MICRO\":\n",
    "                data_df.at[i, col] = 1\n",
    "            if data_df.at[i, col] == \"NONE\":\n",
    "                data_df.at[i, col] = 2\n",
    "            "
   ]
  },
  {
   "cell_type": "code",
   "execution_count": 6,
   "metadata": {},
   "outputs": [
    {
     "output_type": "execute_result",
     "data": {
      "text/plain": [
       "       REGIONC  DIVISION  REPORTABLE_DOMAIN  TYPEHUQ       NWEIGHT  HDD65  \\\n",
       "0            2         4                 12        2   2471.679705   4742   \n",
       "1            4        10                 26        2   8599.172010   2662   \n",
       "2            1         1                  1        5   8969.915921   6233   \n",
       "3            2         3                  7        2  18003.639600   6034   \n",
       "4            1         1                  1        3   5999.605242   5388   \n",
       "...        ...       ...                ...      ...           ...    ...   \n",
       "12076        2         3                  9        2  10219.802880   7671   \n",
       "12077        3         7                 21        4   8689.074445   2085   \n",
       "12078        2         4                 10        2   4697.213624   7935   \n",
       "12079        4         8                 23        2  13155.678790   5834   \n",
       "12080        4        10                 26        2   7703.426315   2806   \n",
       "\n",
       "       CDD65  HDD30YR  CDD30YR  Climate_Region_Pub  ...  SCALEEL KAVALNG  \\\n",
       "0       1080     4953     1271                   4  ...        0       0   \n",
       "1        199     2688      143                   5  ...        0       1   \n",
       "2        505     5741      829                   1  ...        0       3   \n",
       "3        672     5781      868                   1  ...        3       3   \n",
       "4        702     5313      797                   1  ...        0       1   \n",
       "...      ...      ...      ...                 ...  ...      ...     ...   \n",
       "12076    332     7784      451                   1  ...        0       3   \n",
       "12077   2844     2520     2286                   2  ...        0       1   \n",
       "12078    472     8074      600                   1  ...        0       1   \n",
       "12079    770     5989      957                   1  ...        0       1   \n",
       "12080    124     2859      139                   5  ...        0       1   \n",
       "\n",
       "      PERIODNG  SCALENG  PERIODLP  SCALELP  PERIODFO  SCALEFO  PERIODKR  \\\n",
       "0            0        0         0        0         0        0         0   \n",
       "1            1        0         0        0         0        0         0   \n",
       "2            5        3         0        0         0        0         0   \n",
       "3            5        3         0        0         0        0         0   \n",
       "4            1        0         0        0         0        0         0   \n",
       "...        ...      ...       ...      ...       ...      ...       ...   \n",
       "12076        5        3         0        0         0        0         0   \n",
       "12077        1        0         0        0         0        0         0   \n",
       "12078        1        0         0        0         0        0         0   \n",
       "12079        1        0         0        0         0        0         0   \n",
       "12080        1        0         0        0         0        0         0   \n",
       "\n",
       "       SCALEKER  \n",
       "0             0  \n",
       "1             0  \n",
       "2             0  \n",
       "3             0  \n",
       "4             0  \n",
       "...         ...  \n",
       "12076         0  \n",
       "12077         0  \n",
       "12078         0  \n",
       "12079         0  \n",
       "12080         0  \n",
       "\n",
       "[12081 rows x 930 columns]"
      ],
      "text/html": "<div>\n<style scoped>\n    .dataframe tbody tr th:only-of-type {\n        vertical-align: middle;\n    }\n\n    .dataframe tbody tr th {\n        vertical-align: top;\n    }\n\n    .dataframe thead th {\n        text-align: right;\n    }\n</style>\n<table border=\"1\" class=\"dataframe\">\n  <thead>\n    <tr style=\"text-align: right;\">\n      <th></th>\n      <th>REGIONC</th>\n      <th>DIVISION</th>\n      <th>REPORTABLE_DOMAIN</th>\n      <th>TYPEHUQ</th>\n      <th>NWEIGHT</th>\n      <th>HDD65</th>\n      <th>CDD65</th>\n      <th>HDD30YR</th>\n      <th>CDD30YR</th>\n      <th>Climate_Region_Pub</th>\n      <th>...</th>\n      <th>SCALEEL</th>\n      <th>KAVALNG</th>\n      <th>PERIODNG</th>\n      <th>SCALENG</th>\n      <th>PERIODLP</th>\n      <th>SCALELP</th>\n      <th>PERIODFO</th>\n      <th>SCALEFO</th>\n      <th>PERIODKR</th>\n      <th>SCALEKER</th>\n    </tr>\n  </thead>\n  <tbody>\n    <tr>\n      <th>0</th>\n      <td>2</td>\n      <td>4</td>\n      <td>12</td>\n      <td>2</td>\n      <td>2471.679705</td>\n      <td>4742</td>\n      <td>1080</td>\n      <td>4953</td>\n      <td>1271</td>\n      <td>4</td>\n      <td>...</td>\n      <td>0</td>\n      <td>0</td>\n      <td>0</td>\n      <td>0</td>\n      <td>0</td>\n      <td>0</td>\n      <td>0</td>\n      <td>0</td>\n      <td>0</td>\n      <td>0</td>\n    </tr>\n    <tr>\n      <th>1</th>\n      <td>4</td>\n      <td>10</td>\n      <td>26</td>\n      <td>2</td>\n      <td>8599.172010</td>\n      <td>2662</td>\n      <td>199</td>\n      <td>2688</td>\n      <td>143</td>\n      <td>5</td>\n      <td>...</td>\n      <td>0</td>\n      <td>1</td>\n      <td>1</td>\n      <td>0</td>\n      <td>0</td>\n      <td>0</td>\n      <td>0</td>\n      <td>0</td>\n      <td>0</td>\n      <td>0</td>\n    </tr>\n    <tr>\n      <th>2</th>\n      <td>1</td>\n      <td>1</td>\n      <td>1</td>\n      <td>5</td>\n      <td>8969.915921</td>\n      <td>6233</td>\n      <td>505</td>\n      <td>5741</td>\n      <td>829</td>\n      <td>1</td>\n      <td>...</td>\n      <td>0</td>\n      <td>3</td>\n      <td>5</td>\n      <td>3</td>\n      <td>0</td>\n      <td>0</td>\n      <td>0</td>\n      <td>0</td>\n      <td>0</td>\n      <td>0</td>\n    </tr>\n    <tr>\n      <th>3</th>\n      <td>2</td>\n      <td>3</td>\n      <td>7</td>\n      <td>2</td>\n      <td>18003.639600</td>\n      <td>6034</td>\n      <td>672</td>\n      <td>5781</td>\n      <td>868</td>\n      <td>1</td>\n      <td>...</td>\n      <td>3</td>\n      <td>3</td>\n      <td>5</td>\n      <td>3</td>\n      <td>0</td>\n      <td>0</td>\n      <td>0</td>\n      <td>0</td>\n      <td>0</td>\n      <td>0</td>\n    </tr>\n    <tr>\n      <th>4</th>\n      <td>1</td>\n      <td>1</td>\n      <td>1</td>\n      <td>3</td>\n      <td>5999.605242</td>\n      <td>5388</td>\n      <td>702</td>\n      <td>5313</td>\n      <td>797</td>\n      <td>1</td>\n      <td>...</td>\n      <td>0</td>\n      <td>1</td>\n      <td>1</td>\n      <td>0</td>\n      <td>0</td>\n      <td>0</td>\n      <td>0</td>\n      <td>0</td>\n      <td>0</td>\n      <td>0</td>\n    </tr>\n    <tr>\n      <th>...</th>\n      <td>...</td>\n      <td>...</td>\n      <td>...</td>\n      <td>...</td>\n      <td>...</td>\n      <td>...</td>\n      <td>...</td>\n      <td>...</td>\n      <td>...</td>\n      <td>...</td>\n      <td>...</td>\n      <td>...</td>\n      <td>...</td>\n      <td>...</td>\n      <td>...</td>\n      <td>...</td>\n      <td>...</td>\n      <td>...</td>\n      <td>...</td>\n      <td>...</td>\n      <td>...</td>\n    </tr>\n    <tr>\n      <th>12076</th>\n      <td>2</td>\n      <td>3</td>\n      <td>9</td>\n      <td>2</td>\n      <td>10219.802880</td>\n      <td>7671</td>\n      <td>332</td>\n      <td>7784</td>\n      <td>451</td>\n      <td>1</td>\n      <td>...</td>\n      <td>0</td>\n      <td>3</td>\n      <td>5</td>\n      <td>3</td>\n      <td>0</td>\n      <td>0</td>\n      <td>0</td>\n      <td>0</td>\n      <td>0</td>\n      <td>0</td>\n    </tr>\n    <tr>\n      <th>12077</th>\n      <td>3</td>\n      <td>7</td>\n      <td>21</td>\n      <td>4</td>\n      <td>8689.074445</td>\n      <td>2085</td>\n      <td>2844</td>\n      <td>2520</td>\n      <td>2286</td>\n      <td>2</td>\n      <td>...</td>\n      <td>0</td>\n      <td>1</td>\n      <td>1</td>\n      <td>0</td>\n      <td>0</td>\n      <td>0</td>\n      <td>0</td>\n      <td>0</td>\n      <td>0</td>\n      <td>0</td>\n    </tr>\n    <tr>\n      <th>12078</th>\n      <td>2</td>\n      <td>4</td>\n      <td>10</td>\n      <td>2</td>\n      <td>4697.213624</td>\n      <td>7935</td>\n      <td>472</td>\n      <td>8074</td>\n      <td>600</td>\n      <td>1</td>\n      <td>...</td>\n      <td>0</td>\n      <td>1</td>\n      <td>1</td>\n      <td>0</td>\n      <td>0</td>\n      <td>0</td>\n      <td>0</td>\n      <td>0</td>\n      <td>0</td>\n      <td>0</td>\n    </tr>\n    <tr>\n      <th>12079</th>\n      <td>4</td>\n      <td>8</td>\n      <td>23</td>\n      <td>2</td>\n      <td>13155.678790</td>\n      <td>5834</td>\n      <td>770</td>\n      <td>5989</td>\n      <td>957</td>\n      <td>1</td>\n      <td>...</td>\n      <td>0</td>\n      <td>1</td>\n      <td>1</td>\n      <td>0</td>\n      <td>0</td>\n      <td>0</td>\n      <td>0</td>\n      <td>0</td>\n      <td>0</td>\n      <td>0</td>\n    </tr>\n    <tr>\n      <th>12080</th>\n      <td>4</td>\n      <td>10</td>\n      <td>26</td>\n      <td>2</td>\n      <td>7703.426315</td>\n      <td>2806</td>\n      <td>124</td>\n      <td>2859</td>\n      <td>139</td>\n      <td>5</td>\n      <td>...</td>\n      <td>0</td>\n      <td>1</td>\n      <td>1</td>\n      <td>0</td>\n      <td>0</td>\n      <td>0</td>\n      <td>0</td>\n      <td>0</td>\n      <td>0</td>\n      <td>0</td>\n    </tr>\n  </tbody>\n</table>\n<p>12081 rows × 930 columns</p>\n</div>"
     },
     "metadata": {},
     "execution_count": 6
    }
   ],
   "source": [
    "data_df"
   ]
  },
  {
   "cell_type": "code",
   "execution_count": 7,
   "metadata": {},
   "outputs": [
    {
     "output_type": "stream",
     "name": "stdout",
     "text": [
      "['KWHSPH', 'KWHCOL', 'KWHWTH', 'KWHRFG', 'KWHOTH', 'BTUEL', 'BTUELSPH', 'BTUELCOL', 'BTUELWTH', 'BTUELRFG', 'BTUELOTH']\n"
     ]
    }
   ],
   "source": [
    "# BTUEL is KWH just in another unit of measurement and KWH*** are a separation of KWH on specific tasks such as airconditioning.\n",
    "\n",
    "KWH_cheat = [i for i in data_df.columns if((\"KWH\" in i and len(i)>=4 or \"BTUEL\" in i))]\n",
    "print(KWH_cheat)\n",
    "\n",
    "data_df.drop(columns = KWH_cheat, inplace = True)"
   ]
  },
  {
   "source": [
    "high_cor = get_high_cor(data_df)\n",
    "cor = high_cor[((high_cor['FEATURE_1'] == 'KWH'))]\n"
   ],
   "cell_type": "code",
   "metadata": {},
   "execution_count": 8,
   "outputs": []
  },
  {
   "cell_type": "code",
   "execution_count": 9,
   "metadata": {},
   "outputs": [
    {
     "output_type": "execute_result",
     "data": {
      "text/plain": [
       "       FEATURE_1    FEATURE_2  CORRELATION\n",
       "709855       KWH      TYPEHUQ    -0.352917\n",
       "709858       KWH        CDD65     0.245610\n",
       "709860       KWH      CDD30YR     0.256357\n",
       "709862       KWH     AIA_Zone     0.200681\n",
       "709863       KWH     KOWNRENT    -0.256495\n",
       "...          ...          ...          ...\n",
       "710721       KWH  TOTALDOLWTH     0.437861\n",
       "710722       KWH  TOTALDOLRFG     0.433450\n",
       "710723       KWH  TOTALDOLOTH     0.655677\n",
       "710727       KWH      KAVALNG    -0.275771\n",
       "710728       KWH     PERIODNG    -0.239307\n",
       "\n",
       "[131 rows x 3 columns]"
      ],
      "text/html": "<div>\n<style scoped>\n    .dataframe tbody tr th:only-of-type {\n        vertical-align: middle;\n    }\n\n    .dataframe tbody tr th {\n        vertical-align: top;\n    }\n\n    .dataframe thead th {\n        text-align: right;\n    }\n</style>\n<table border=\"1\" class=\"dataframe\">\n  <thead>\n    <tr style=\"text-align: right;\">\n      <th></th>\n      <th>FEATURE_1</th>\n      <th>FEATURE_2</th>\n      <th>CORRELATION</th>\n    </tr>\n  </thead>\n  <tbody>\n    <tr>\n      <th>709855</th>\n      <td>KWH</td>\n      <td>TYPEHUQ</td>\n      <td>-0.352917</td>\n    </tr>\n    <tr>\n      <th>709858</th>\n      <td>KWH</td>\n      <td>CDD65</td>\n      <td>0.245610</td>\n    </tr>\n    <tr>\n      <th>709860</th>\n      <td>KWH</td>\n      <td>CDD30YR</td>\n      <td>0.256357</td>\n    </tr>\n    <tr>\n      <th>709862</th>\n      <td>KWH</td>\n      <td>AIA_Zone</td>\n      <td>0.200681</td>\n    </tr>\n    <tr>\n      <th>709863</th>\n      <td>KWH</td>\n      <td>KOWNRENT</td>\n      <td>-0.256495</td>\n    </tr>\n    <tr>\n      <th>...</th>\n      <td>...</td>\n      <td>...</td>\n      <td>...</td>\n    </tr>\n    <tr>\n      <th>710721</th>\n      <td>KWH</td>\n      <td>TOTALDOLWTH</td>\n      <td>0.437861</td>\n    </tr>\n    <tr>\n      <th>710722</th>\n      <td>KWH</td>\n      <td>TOTALDOLRFG</td>\n      <td>0.433450</td>\n    </tr>\n    <tr>\n      <th>710723</th>\n      <td>KWH</td>\n      <td>TOTALDOLOTH</td>\n      <td>0.655677</td>\n    </tr>\n    <tr>\n      <th>710727</th>\n      <td>KWH</td>\n      <td>KAVALNG</td>\n      <td>-0.275771</td>\n    </tr>\n    <tr>\n      <th>710728</th>\n      <td>KWH</td>\n      <td>PERIODNG</td>\n      <td>-0.239307</td>\n    </tr>\n  </tbody>\n</table>\n<p>131 rows × 3 columns</p>\n</div>"
     },
     "metadata": {},
     "execution_count": 9
    }
   ],
   "source": [
    "cor"
   ]
  },
  {
   "cell_type": "code",
   "execution_count": 10,
   "metadata": {},
   "outputs": [
    {
     "output_type": "stream",
     "name": "stdout",
     "text": [
      "       TYPEHUQ  CDD65  CDD30YR  AIA_Zone  KOWNRENT  YEARMADE  YEARMADERANGE  \\\n0            2   1080     1271         3         1      2004              7   \n1            2    199      143         4         2      1998              6   \n2            5    505      829         2         2      1965              3   \n3            2    672      868         2         1      1985              5   \n4            3    702      797         3         1      1983              5   \n...        ...    ...      ...       ...       ...       ...            ...   \n12076        2    332      451         1         1      1985              5   \n12077        4   2844     2286         5         2      1980              5   \n12078        2    472      600         1         1      1993              6   \n12079        2    770      957         2         1      1930              1   \n12080        2    124      139         4         1      1948              1   \n\n       NUMFLRS  ROOFTYPE  NAPTFLRS  ...  TOTALBTURFG  TOTALBTUOTH  TOTALDOL  \\\n0            0         5         0  ...         5171        26363      1315   \n1            0         2         0  ...         4470        29653      1293   \n2            2         0         1  ...         3124         6781      1327   \n3            0         5         0  ...         5700        20438      1398   \n4            0         5         0  ...         1182         8607      1558   \n...        ...       ...       ...  ...          ...          ...       ...   \n12076        0         6         0  ...         1933        17356      1541   \n12077        0         2         1  ...         1979         3262       543   \n12078        0         6         0  ...         7413        42930      2093   \n12079        0         6         0  ...         6318        12960      1023   \n12080        0         6         0  ...         1429         6891       544   \n\n       TOTALDOLCOL  TOTALDOLWTH  TOTALDOLRFG  TOTALDOLOTH  KAVALNG  PERIODNG  \\\n0              219          211          108          550        0         0   \n1               17          287          121          501        1         1   \n2               49          115          243          339        3         5   \n3              101          179          159          534        3         5   \n4                0          237           85          620        1         1   \n...            ...          ...          ...          ...      ...       ...   \n12076           13          253           76          678        3         5   \n12077           51           54           83           82        1         1   \n12078           98          204          250          950        1         1   \n12079           13          108          175          295        1         1   \n12080            0           84           49          175        1         1   \n\n         KWH  \n0      18466  \n1       5148  \n2       2218  \n3      10015  \n4       2869  \n...      ...  \n12076   7647  \n12077   1813  \n12078   9834  \n12079   4800  \n12080   1764  \n\n[12081 rows x 132 columns]\n"
     ]
    }
   ],
   "source": [
    "corr_list = []\n",
    "\n",
    "for elem in cor['FEATURE_2']:\n",
    "    corr_list.append(elem)\n",
    "\n",
    "high_cor_df = data_df[data_df.columns.intersection(corr_list)]\n",
    "\n",
    "high_cor_df = pd.concat((high_cor_df, data_df['KWH']),axis = 1)\n",
    "\n",
    "print(high_cor_df)\n",
    "# high_cor_df.to_csv(\"./Data/high_cor_df.csv\", index=False)"
   ]
  },
  {
   "cell_type": "code",
   "execution_count": 14,
   "metadata": {},
   "outputs": [],
   "source": [
    "to_normalize = high_cor_df[high_cor_df.columns.difference(['KWH'])]\n",
    "\n",
    "# minmax = MinMaxScaler((0,1)).fit(to_normalize)\n",
    "# df_to_normalize = minmax.transform(df_to_normalize)\n",
    "\n",
    "df_to_normalize = StandardScaler().fit_transform(to_normalize)\n",
    "df_to_normalize = pd.DataFrame(df_to_normalize)\n",
    "\n",
    "\n",
    "result1_df = pd.concat([df_to_normalize, high_cor_df['KWH']],axis = 1)\n",
    "\n",
    "result1_df.to_csv(\"./Data/high_cor_df.csv\", index=False)"
   ]
  }
 ]
}