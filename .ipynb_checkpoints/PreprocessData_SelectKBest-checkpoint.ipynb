{
 "cells": [
  {
   "cell_type": "code",
   "execution_count": 1,
   "metadata": {},
   "outputs": [],
   "source": [
    "import pandas as pd\n",
    "from sklearn.feature_selection import SelectKBest, mutual_info_regression\n",
    "from sklearn.model_selection import train_test_split, GridSearchCV\n",
    "from sklearn.preprocessing import StandardScaler, MinMaxScaler\n",
    "from sklearn.linear_model import SGDRegressor, LinearRegression, Lasso, Ridge\n",
    "from sklearn.metrics import mean_squared_error, mean_absolute_error, mean_absolute_percentage_error\n",
    "from sklearn.ensemble import RandomForestRegressor "
   ]
  },
  {
   "cell_type": "markdown",
   "metadata": {},
   "source": [
    "# Pre-processing"
   ]
  },
  {
   "cell_type": "code",
   "execution_count": 2,
   "metadata": {},
   "outputs": [],
   "source": [
    "df = pd.read_csv(r'./Data/processed.csv')\n",
    "X = df.drop(['KWH'], axis=1)\n",
    "Y = df['KWH']"
   ]
  },
  {
   "cell_type": "code",
   "execution_count": 3,
   "metadata": {},
   "outputs": [],
   "source": [
    "best_df = SelectKBest(mutual_info_regression, k = 100).fit_transform(X, Y)"
   ]
  },
  {
   "cell_type": "code",
   "execution_count": 4,
   "metadata": {},
   "outputs": [],
   "source": [
    "X_train, X_test, Y_train, Y_test = train_test_split(best_df, Y, test_size=0.3, shuffle = True, random_state = 42)"
   ]
  },
  {
   "cell_type": "code",
   "execution_count": 5,
   "metadata": {},
   "outputs": [],
   "source": [
    "scaler = MinMaxScaler().fit(X_train)\n",
    "X_train = scaler.transform(X_train)\n",
    "X_test = scaler.transform(X_test)"
   ]
  },
  {
   "cell_type": "markdown",
   "metadata": {},
   "source": [
    "# Model implementation"
   ]
  },
  {
   "cell_type": "code",
   "execution_count": 19,
   "metadata": {},
   "outputs": [],
   "source": [
    "rr = Ridge(\n",
    "    random_state=42,\n",
    "    solver = 'auto'\n",
    ")\n",
    "rf = RandomForestRegressor(\n",
    "    oob_score = True,  \n",
    "    random_state = 42,\n",
    ")\n",
    "sgd = SGDRegressor( \n",
    "    random_state=42,\n",
    "    penalty='l1', \n",
    ")\n",
    "ls = Lasso(\n",
    "    random_state = 42 \n",
    ")\n",
    "estimators = [rr, rf, sgd, ls]"
   ]
  },
  {
   "cell_type": "code",
   "execution_count": 20,
   "metadata": {},
   "outputs": [],
   "source": [
    "param_rr = {'alpha': [0.0001, 0.001, 0.01, 0.1, 1]} \n",
    "param_rf = {'n_estimators': [5, 50, 100, 200, 500], 'max_depth': [1, 5, 10, 15], 'min_samples_leaf': [1, 5, 10]}\n",
    "param_sgd = {'alpha': [0.0001, 0.001, 0.01, 0.1, 1], 'loss': ['squared_epsilon_insensitive', 'huber'], 'learning_rate': ['optimal', 'adaptive']}\n",
    "param_ls = {\"selection\":[\"cyclic\", \"random\"], 'alpha': [0.0001, 0.001, 0.01, 0.1, 1]}\n",
    "params = [param_rr, param_rf, param_sgd, param_ls]"
   ]
  },
  {
   "cell_type": "code",
   "execution_count": 21,
   "metadata": {},
   "outputs": [],
   "source": [
    "def performingGridSearch(estimators, X_train, Y_train, X_test, Y_test, params):\n",
    "  scores_train = []\n",
    "  scores_test = []\n",
    " \n",
    "  for index, estimator in enumerate(estimators):\n",
    "    model = GridSearchCV(estimator, param_grid = params[index], cv = 3, n_jobs=-1, scoring='r2', verbose = 3)\n",
    "    model.fit(X_train, Y_train)\n",
    "    best_params = model.best_params_\n",
    "    scores_train.append(model.score(X_train, Y_train))\n",
    " \n",
    "    print(\"\\n\\n Model: {} \\n\\n Best params: {} \".format(estimator, best_params))\n",
    "    scores_test.append(model.score(X_test, Y_test))\n",
    "    \n",
    "  return scores_train, scores_test"
   ]
  },
  {
   "cell_type": "code",
   "execution_count": 15,
   "metadata": {
    "tags": []
   },
   "outputs": [
    {
     "name": "stdout",
     "output_type": "stream",
     "text": [
      "Fitting 3 folds for each of 5 candidates, totalling 15 fits\n",
      "\n",
      "\n",
      " Model: Ridge(random_state=42) \n",
      "\n",
      " Best params: {'alpha': 0.01} \n",
      "Fitting 3 folds for each of 60 candidates, totalling 180 fits\n",
      "\n",
      "\n",
      " Model: RandomForestRegressor(oob_score=True, random_state=42) \n",
      "\n",
      " Best params: {'max_depth': 15, 'min_samples_leaf': 1, 'n_estimators': 500} \n",
      "Fitting 3 folds for each of 20 candidates, totalling 60 fits\n",
      "\n",
      "\n",
      " Model: SGDRegressor(penalty='l1', random_state=42) \n",
      "\n",
      " Best params: {'alpha': 0.001, 'learning_rate': 'adaptive', 'loss': 'squared_epsilon_insensitive'} \n",
      "Fitting 3 folds for each of 10 candidates, totalling 30 fits\n",
      "\n",
      "\n",
      " Model: Lasso(random_state=42) \n",
      "\n",
      " Best params: {'alpha': 0.1, 'selection': 'cyclic'} \n",
      "C:\\Programs\\Anaconda\\envs\\p38\\lib\\site-packages\\sklearn\\linear_model\\_coordinate_descent.py:530: ConvergenceWarning: Objective did not converge. You might want to increase the number of iterations. Duality gap: 396392682.9230375, tolerance: 51375337.476005666\n",
      "  model = cd_fast.enet_coordinate_descent(\n"
     ]
    }
   ],
   "source": [
    "# scores_train, scores_val = performingGridSearch(estimators, X_train, Y_train, X_test, Y_test, params)"
   ]
  },
  {
   "cell_type": "code",
   "execution_count": 17,
   "metadata": {},
   "outputs": [
    {
     "name": "stdout",
     "output_type": "stream",
     "text": [
      "                     0                      1             2         3\n",
      "Estimators       Ridge  RandomForestRegressor  SGDRegressor     Lasso\n",
      "Scores Train  0.986648               0.991172      0.984034  0.986648\n",
      "Scores Val    0.985901               0.957601      0.984046  0.985898\n"
     ]
    }
   ],
   "source": [
    "estimators_names = ['Ridge', 'RandomForest', 'SGDRegressor', 'Lasso']\n",
    "models_scores = pd.DataFrame([estimators_names, scores_train, scores_val], columns = None, index = ['Estimators', 'Scores Train', 'Scores Val'])\n",
    "print(models_scores)"
   ]
  },
  {
   "cell_type": "code",
   "execution_count": 10,
   "metadata": {},
   "outputs": [],
   "source": [
    "lr = LinearRegression()\n",
    "rr = Ridge(\n",
    "    random_state=42,\n",
    "    solver = 'auto',\n",
    "    alpha = 0.01\n",
    ")\n",
    "rf = RandomForestRegressor(\n",
    "    oob_score = True,  \n",
    "    random_state = 42,\n",
    "    max_depth= 15, \n",
    "    min_samples_leaf= 1, \n",
    "    n_estimators= 500\n",
    ")\n",
    "sgd = SGDRegressor(\n",
    "    random_state = 42,\n",
    "    shuffle= True, \n",
    "    early_stopping= True,\n",
    "    validation_fraction= 0.2,\n",
    "    loss = 'squared_epsilon_insensitive',\n",
    "    penalty = 'l1',\n",
    "    alpha = 0.001,\n",
    "    learning_rate = 'adaptive',\n",
    "    tol = 0.001, \n",
    ")\n",
    "\n",
    "ls = Lasso(\n",
    "    random_state = 42,\n",
    "    alpha = 0.1, \n",
    "    selection = 'cyclic' \n",
    ")\n",
    "\n",
    "estimators = [lr, rr, rf, sgd, ls]"
   ]
  },
  {
   "cell_type": "code",
   "execution_count": 11,
   "metadata": {},
   "outputs": [
    {
     "name": "stdout",
     "output_type": "stream",
     "text": [
      "LinearRegression()\n",
      "Ridge(alpha=0.01, random_state=42)\n",
      "RandomForestRegressor(max_depth=15, n_estimators=500, oob_score=True,\n",
      "                      random_state=42)\n",
      "SGDRegressor(alpha=0.001, early_stopping=True, learning_rate='adaptive',\n",
      "             loss='squared_epsilon_insensitive', penalty='l1', random_state=42,\n",
      "             validation_fraction=0.2)\n",
      "Lasso(alpha=0.1, random_state=42)\n",
      "C:\\Users\\Daniel Ciovica\\miniconda3\\envs\\bigdata\\lib\\site-packages\\sklearn\\linear_model\\_coordinate_descent.py:530: ConvergenceWarning: Objective did not converge. You might want to increase the number of iterations. Duality gap: 396392682.92312527, tolerance: 51375337.476005666\n",
      "  model = cd_fast.enet_coordinate_descent(\n"
     ]
    }
   ],
   "source": [
    "r2_score_train = []\n",
    "r2_score_test = []\n",
    "mape_score_train = []\n",
    "mape_score_test = []\n",
    "for estimator in estimators:\n",
    "    print(estimator)\n",
    "    estimator.fit(X_train, Y_train)\n",
    "    r2_score_train.append(estimator.score(X_train, Y_train))\n",
    "    y_train_pred = estimator.predict(X_train)\n",
    "    mape_score_train.append(mean_absolute_percentage_error(Y_train, y_train_pred))\n",
    "\n",
    "    r2_score_test.append(estimator.score(X_test, Y_test))\n",
    "    y_test_pred = estimator.predict(X_test)\n",
    "    mape_score_test.append(mean_absolute_percentage_error(Y_test, y_test_pred))\n",
    "\n"
   ]
  },
  {
   "cell_type": "code",
   "execution_count": 13,
   "metadata": {},
   "outputs": [
    {
     "data": {
      "text/html": [
       "<div>\n",
       "<style scoped>\n",
       "    .dataframe tbody tr th:only-of-type {\n",
       "        vertical-align: middle;\n",
       "    }\n",
       "\n",
       "    .dataframe tbody tr th {\n",
       "        vertical-align: top;\n",
       "    }\n",
       "\n",
       "    .dataframe thead th {\n",
       "        text-align: right;\n",
       "    }\n",
       "</style>\n",
       "<table border=\"1\" class=\"dataframe\">\n",
       "  <thead>\n",
       "    <tr style=\"text-align: right;\">\n",
       "      <th></th>\n",
       "      <th>0</th>\n",
       "      <th>1</th>\n",
       "      <th>2</th>\n",
       "      <th>3</th>\n",
       "      <th>4</th>\n",
       "    </tr>\n",
       "  </thead>\n",
       "  <tbody>\n",
       "    <tr>\n",
       "      <th>Estimators</th>\n",
       "      <td>LinearRegression</td>\n",
       "      <td>Ridge</td>\n",
       "      <td>RandomForest</td>\n",
       "      <td>SGDRegressor</td>\n",
       "      <td>Lasso</td>\n",
       "    </tr>\n",
       "    <tr>\n",
       "      <th>r2_score_train</th>\n",
       "      <td>0.986686</td>\n",
       "      <td>0.986648</td>\n",
       "      <td>0.991172</td>\n",
       "      <td>0.949876</td>\n",
       "      <td>0.986648</td>\n",
       "    </tr>\n",
       "    <tr>\n",
       "      <th>r2_score_test</th>\n",
       "      <td>0.98581</td>\n",
       "      <td>0.985901</td>\n",
       "      <td>0.957601</td>\n",
       "      <td>0.950134</td>\n",
       "      <td>0.985898</td>\n",
       "    </tr>\n",
       "    <tr>\n",
       "      <th>mape_score_train</th>\n",
       "      <td>0.075041</td>\n",
       "      <td>0.075634</td>\n",
       "      <td>0.04118</td>\n",
       "      <td>0.174636</td>\n",
       "      <td>0.074374</td>\n",
       "    </tr>\n",
       "    <tr>\n",
       "      <th>mape_score_test</th>\n",
       "      <td>0.065387</td>\n",
       "      <td>0.065376</td>\n",
       "      <td>0.096979</td>\n",
       "      <td>0.126128</td>\n",
       "      <td>0.065236</td>\n",
       "    </tr>\n",
       "  </tbody>\n",
       "</table>\n",
       "</div>"
      ],
      "text/plain": [
       "                                 0         1             2             3  \\\n",
       "Estimators        LinearRegression     Ridge  RandomForest  SGDRegressor   \n",
       "r2_score_train            0.986686  0.986648      0.991172      0.949876   \n",
       "r2_score_test              0.98581  0.985901      0.957601      0.950134   \n",
       "mape_score_train          0.075041  0.075634       0.04118      0.174636   \n",
       "mape_score_test           0.065387  0.065376      0.096979      0.126128   \n",
       "\n",
       "                         4  \n",
       "Estimators           Lasso  \n",
       "r2_score_train    0.986648  \n",
       "r2_score_test     0.985898  \n",
       "mape_score_train  0.074374  \n",
       "mape_score_test   0.065236  "
      ]
     },
     "execution_count": 13,
     "metadata": {},
     "output_type": "execute_result"
    }
   ],
   "source": [
    "estimators_names = ['LinearRegression','Ridge', 'RandomForest', 'SGDRegressor', 'Lasso']\n",
    "models_scores = pd.DataFrame([estimators_names, r2_score_train, r2_score_test, mape_score_train, mape_score_test], columns = None, index = ['Estimators', 'r2_score_train', 'r2_score_test', 'mape_score_train', 'mape_score_test'])\n",
    "models_scores"
   ]
  },
  {
   "cell_type": "code",
   "execution_count": null,
   "metadata": {},
   "outputs": [],
   "source": []
  }
 ],
 "metadata": {
  "kernelspec": {
   "display_name": "Python 3",
   "language": "python",
   "name": "python3"
  },
  "language_info": {
   "codemirror_mode": {
    "name": "ipython",
    "version": 3
   },
   "file_extension": ".py",
   "mimetype": "text/x-python",
   "name": "python",
   "nbconvert_exporter": "python",
   "pygments_lexer": "ipython3",
   "version": "3.7.10"
  },
  "metadata": {
   "interpreter": {
    "hash": "1166ed98f18d4f8d9f9a06c6037118a1e7995b4299c5d1d8c7a1e8e6e7d22ea1"
   }
  }
 },
 "nbformat": 4,
 "nbformat_minor": 2
}
