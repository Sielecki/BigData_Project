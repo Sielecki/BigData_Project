{
 "metadata": {
  "language_info": {
   "codemirror_mode": {
    "name": "ipython",
    "version": 3
   },
   "file_extension": ".py",
   "mimetype": "text/x-python",
   "name": "python",
   "nbconvert_exporter": "python",
   "pygments_lexer": "ipython3",
   "version": "3.8.8"
  },
  "orig_nbformat": 2,
  "kernelspec": {
   "name": "python388jvsc74a57bd0ec08a075d9d74da35804acff748edb6330b1d10a7643a82672ccbae7787bef20",
   "display_name": "Python 3.8.8 64-bit ('bigdata': conda)"
  }
 },
 "nbformat": 4,
 "nbformat_minor": 2,
 "cells": [
  {
   "cell_type": "code",
   "execution_count": 1,
   "metadata": {},
   "outputs": [],
   "source": [
    "import pandas as pd\n",
    "import matplotlib.pyplot as plt\n",
    "\n",
    "from sklearn.preprocessing import MinMaxScaler, Normalizer, StandardScaler, OneHotEncoder, PolynomialFeatures\n",
    "from sklearn.model_selection import train_test_split\n",
    "import seaborn as sns"
   ]
  },
  {
   "cell_type": "code",
   "execution_count": 2,
   "metadata": {},
   "outputs": [],
   "source": [
    "data_df = pd.read_csv('Data\\\\recs2009_public.csv')\n",
    "data_df.dropna(axis=0,inplace=True)\n",
    "data_df.drop(columns=[\"DOEID\"],inplace=True)\n",
    "data_df.reset_index(inplace=True, drop=True)\n",
    "\n",
    "cols = data_df.columns.tolist()"
   ]
  },
  {
   "cell_type": "code",
   "execution_count": 3,
   "metadata": {
    "tags": []
   },
   "outputs": [],
   "source": [
    "for i in range(len(data_df.index)):\n",
    "    for col in cols:\n",
    "        if col != \"METROMICRO\" and col != \"UR\":\n",
    "            if data_df.at[i, col] < 0:\n",
    "                data_df.at[i, col] = 0\n",
    "\n",
    "        elif col == \"UR\":\n",
    "            if data_df.at[i, col] == \"U\":\n",
    "                data_df.at[i, col] = 0\n",
    "            else:\n",
    "                data_df.at[i, col] = 1\n",
    "        else:\n",
    "            if data_df.at[i, col] == \"METRO\":\n",
    "                data_df.at[i, col] = 0\n",
    "            if data_df.at[i, col] == \"MICRO\":\n",
    "                data_df.at[i, col] = 1\n",
    "            if data_df.at[i, col] == \"NONE\":\n",
    "                data_df.at[i, col] = 2\n",
    "            "
   ]
  },
  {
   "cell_type": "code",
   "execution_count": 4,
   "metadata": {},
   "outputs": [
    {
     "output_type": "execute_result",
     "data": {
      "text/plain": [
       "       REGIONC  DIVISION  REPORTABLE_DOMAIN  TYPEHUQ       NWEIGHT  HDD65  \\\n",
       "0            2         4                 12        2   2471.679705   4742   \n",
       "1            4        10                 26        2   8599.172010   2662   \n",
       "2            1         1                  1        5   8969.915921   6233   \n",
       "3            2         3                  7        2  18003.639600   6034   \n",
       "4            1         1                  1        3   5999.605242   5388   \n",
       "...        ...       ...                ...      ...           ...    ...   \n",
       "12076        2         3                  9        2  10219.802880   7671   \n",
       "12077        3         7                 21        4   8689.074445   2085   \n",
       "12078        2         4                 10        2   4697.213624   7935   \n",
       "12079        4         8                 23        2  13155.678790   5834   \n",
       "12080        4        10                 26        2   7703.426315   2806   \n",
       "\n",
       "       CDD65  HDD30YR  CDD30YR  Climate_Region_Pub  ...  SCALEEL KAVALNG  \\\n",
       "0       1080     4953     1271                   4  ...        0       0   \n",
       "1        199     2688      143                   5  ...        0       1   \n",
       "2        505     5741      829                   1  ...        0       3   \n",
       "3        672     5781      868                   1  ...        3       3   \n",
       "4        702     5313      797                   1  ...        0       1   \n",
       "...      ...      ...      ...                 ...  ...      ...     ...   \n",
       "12076    332     7784      451                   1  ...        0       3   \n",
       "12077   2844     2520     2286                   2  ...        0       1   \n",
       "12078    472     8074      600                   1  ...        0       1   \n",
       "12079    770     5989      957                   1  ...        0       1   \n",
       "12080    124     2859      139                   5  ...        0       1   \n",
       "\n",
       "      PERIODNG  SCALENG  PERIODLP  SCALELP  PERIODFO  SCALEFO  PERIODKR  \\\n",
       "0            0        0         0        0         0        0         0   \n",
       "1            1        0         0        0         0        0         0   \n",
       "2            5        3         0        0         0        0         0   \n",
       "3            5        3         0        0         0        0         0   \n",
       "4            1        0         0        0         0        0         0   \n",
       "...        ...      ...       ...      ...       ...      ...       ...   \n",
       "12076        5        3         0        0         0        0         0   \n",
       "12077        1        0         0        0         0        0         0   \n",
       "12078        1        0         0        0         0        0         0   \n",
       "12079        1        0         0        0         0        0         0   \n",
       "12080        1        0         0        0         0        0         0   \n",
       "\n",
       "       SCALEKER  \n",
       "0             0  \n",
       "1             0  \n",
       "2             0  \n",
       "3             0  \n",
       "4             0  \n",
       "...         ...  \n",
       "12076         0  \n",
       "12077         0  \n",
       "12078         0  \n",
       "12079         0  \n",
       "12080         0  \n",
       "\n",
       "[12081 rows x 930 columns]"
      ],
      "text/html": "<div>\n<style scoped>\n    .dataframe tbody tr th:only-of-type {\n        vertical-align: middle;\n    }\n\n    .dataframe tbody tr th {\n        vertical-align: top;\n    }\n\n    .dataframe thead th {\n        text-align: right;\n    }\n</style>\n<table border=\"1\" class=\"dataframe\">\n  <thead>\n    <tr style=\"text-align: right;\">\n      <th></th>\n      <th>REGIONC</th>\n      <th>DIVISION</th>\n      <th>REPORTABLE_DOMAIN</th>\n      <th>TYPEHUQ</th>\n      <th>NWEIGHT</th>\n      <th>HDD65</th>\n      <th>CDD65</th>\n      <th>HDD30YR</th>\n      <th>CDD30YR</th>\n      <th>Climate_Region_Pub</th>\n      <th>...</th>\n      <th>SCALEEL</th>\n      <th>KAVALNG</th>\n      <th>PERIODNG</th>\n      <th>SCALENG</th>\n      <th>PERIODLP</th>\n      <th>SCALELP</th>\n      <th>PERIODFO</th>\n      <th>SCALEFO</th>\n      <th>PERIODKR</th>\n      <th>SCALEKER</th>\n    </tr>\n  </thead>\n  <tbody>\n    <tr>\n      <th>0</th>\n      <td>2</td>\n      <td>4</td>\n      <td>12</td>\n      <td>2</td>\n      <td>2471.679705</td>\n      <td>4742</td>\n      <td>1080</td>\n      <td>4953</td>\n      <td>1271</td>\n      <td>4</td>\n      <td>...</td>\n      <td>0</td>\n      <td>0</td>\n      <td>0</td>\n      <td>0</td>\n      <td>0</td>\n      <td>0</td>\n      <td>0</td>\n      <td>0</td>\n      <td>0</td>\n      <td>0</td>\n    </tr>\n    <tr>\n      <th>1</th>\n      <td>4</td>\n      <td>10</td>\n      <td>26</td>\n      <td>2</td>\n      <td>8599.172010</td>\n      <td>2662</td>\n      <td>199</td>\n      <td>2688</td>\n      <td>143</td>\n      <td>5</td>\n      <td>...</td>\n      <td>0</td>\n      <td>1</td>\n      <td>1</td>\n      <td>0</td>\n      <td>0</td>\n      <td>0</td>\n      <td>0</td>\n      <td>0</td>\n      <td>0</td>\n      <td>0</td>\n    </tr>\n    <tr>\n      <th>2</th>\n      <td>1</td>\n      <td>1</td>\n      <td>1</td>\n      <td>5</td>\n      <td>8969.915921</td>\n      <td>6233</td>\n      <td>505</td>\n      <td>5741</td>\n      <td>829</td>\n      <td>1</td>\n      <td>...</td>\n      <td>0</td>\n      <td>3</td>\n      <td>5</td>\n      <td>3</td>\n      <td>0</td>\n      <td>0</td>\n      <td>0</td>\n      <td>0</td>\n      <td>0</td>\n      <td>0</td>\n    </tr>\n    <tr>\n      <th>3</th>\n      <td>2</td>\n      <td>3</td>\n      <td>7</td>\n      <td>2</td>\n      <td>18003.639600</td>\n      <td>6034</td>\n      <td>672</td>\n      <td>5781</td>\n      <td>868</td>\n      <td>1</td>\n      <td>...</td>\n      <td>3</td>\n      <td>3</td>\n      <td>5</td>\n      <td>3</td>\n      <td>0</td>\n      <td>0</td>\n      <td>0</td>\n      <td>0</td>\n      <td>0</td>\n      <td>0</td>\n    </tr>\n    <tr>\n      <th>4</th>\n      <td>1</td>\n      <td>1</td>\n      <td>1</td>\n      <td>3</td>\n      <td>5999.605242</td>\n      <td>5388</td>\n      <td>702</td>\n      <td>5313</td>\n      <td>797</td>\n      <td>1</td>\n      <td>...</td>\n      <td>0</td>\n      <td>1</td>\n      <td>1</td>\n      <td>0</td>\n      <td>0</td>\n      <td>0</td>\n      <td>0</td>\n      <td>0</td>\n      <td>0</td>\n      <td>0</td>\n    </tr>\n    <tr>\n      <th>...</th>\n      <td>...</td>\n      <td>...</td>\n      <td>...</td>\n      <td>...</td>\n      <td>...</td>\n      <td>...</td>\n      <td>...</td>\n      <td>...</td>\n      <td>...</td>\n      <td>...</td>\n      <td>...</td>\n      <td>...</td>\n      <td>...</td>\n      <td>...</td>\n      <td>...</td>\n      <td>...</td>\n      <td>...</td>\n      <td>...</td>\n      <td>...</td>\n      <td>...</td>\n      <td>...</td>\n    </tr>\n    <tr>\n      <th>12076</th>\n      <td>2</td>\n      <td>3</td>\n      <td>9</td>\n      <td>2</td>\n      <td>10219.802880</td>\n      <td>7671</td>\n      <td>332</td>\n      <td>7784</td>\n      <td>451</td>\n      <td>1</td>\n      <td>...</td>\n      <td>0</td>\n      <td>3</td>\n      <td>5</td>\n      <td>3</td>\n      <td>0</td>\n      <td>0</td>\n      <td>0</td>\n      <td>0</td>\n      <td>0</td>\n      <td>0</td>\n    </tr>\n    <tr>\n      <th>12077</th>\n      <td>3</td>\n      <td>7</td>\n      <td>21</td>\n      <td>4</td>\n      <td>8689.074445</td>\n      <td>2085</td>\n      <td>2844</td>\n      <td>2520</td>\n      <td>2286</td>\n      <td>2</td>\n      <td>...</td>\n      <td>0</td>\n      <td>1</td>\n      <td>1</td>\n      <td>0</td>\n      <td>0</td>\n      <td>0</td>\n      <td>0</td>\n      <td>0</td>\n      <td>0</td>\n      <td>0</td>\n    </tr>\n    <tr>\n      <th>12078</th>\n      <td>2</td>\n      <td>4</td>\n      <td>10</td>\n      <td>2</td>\n      <td>4697.213624</td>\n      <td>7935</td>\n      <td>472</td>\n      <td>8074</td>\n      <td>600</td>\n      <td>1</td>\n      <td>...</td>\n      <td>0</td>\n      <td>1</td>\n      <td>1</td>\n      <td>0</td>\n      <td>0</td>\n      <td>0</td>\n      <td>0</td>\n      <td>0</td>\n      <td>0</td>\n      <td>0</td>\n    </tr>\n    <tr>\n      <th>12079</th>\n      <td>4</td>\n      <td>8</td>\n      <td>23</td>\n      <td>2</td>\n      <td>13155.678790</td>\n      <td>5834</td>\n      <td>770</td>\n      <td>5989</td>\n      <td>957</td>\n      <td>1</td>\n      <td>...</td>\n      <td>0</td>\n      <td>1</td>\n      <td>1</td>\n      <td>0</td>\n      <td>0</td>\n      <td>0</td>\n      <td>0</td>\n      <td>0</td>\n      <td>0</td>\n      <td>0</td>\n    </tr>\n    <tr>\n      <th>12080</th>\n      <td>4</td>\n      <td>10</td>\n      <td>26</td>\n      <td>2</td>\n      <td>7703.426315</td>\n      <td>2806</td>\n      <td>124</td>\n      <td>2859</td>\n      <td>139</td>\n      <td>5</td>\n      <td>...</td>\n      <td>0</td>\n      <td>1</td>\n      <td>1</td>\n      <td>0</td>\n      <td>0</td>\n      <td>0</td>\n      <td>0</td>\n      <td>0</td>\n      <td>0</td>\n      <td>0</td>\n    </tr>\n  </tbody>\n</table>\n<p>12081 rows × 930 columns</p>\n</div>"
     },
     "metadata": {},
     "execution_count": 4
    }
   ],
   "source": [
    "data_df"
   ]
  },
  {
   "cell_type": "code",
   "execution_count": 5,
   "metadata": {},
   "outputs": [
    {
     "output_type": "stream",
     "name": "stdout",
     "text": [
      "['KWHSPH', 'KWHCOL', 'KWHWTH', 'KWHRFG', 'KWHOTH', 'BTUEL', 'BTUELSPH', 'BTUELCOL', 'BTUELWTH', 'BTUELRFG', 'BTUELOTH']\n"
     ]
    }
   ],
   "source": [
    "# BTUEL is KWH just in another unit of measurement and KWH*** are a separation of KWH on specific tasks such as airconditioning.\n",
    "\n",
    "KWH_cheat = [i for i in data_df.columns if((\"KWH\" in i and len(i)>=4 or \"BTUEL\" in i))]\n",
    "print(KWH_cheat)\n",
    "\n",
    "data_df.drop(columns = KWH_cheat, inplace = True)"
   ]
  },
  {
   "cell_type": "code",
   "execution_count": 6,
   "metadata": {},
   "outputs": [],
   "source": [
    "data_df.to_csv(\"./Data/processed.csv\", index=False)"
   ]
  },
  {
   "cell_type": "code",
   "execution_count": 7,
   "metadata": {},
   "outputs": [
    {
     "output_type": "stream",
     "name": "stdout",
     "text": [
      "       ACOTHERS   ACROOMS  ADQINSUL    AGEAUD  AGECDRYER  AGECENAC  AGECWASH  \\\n0     -0.128751  1.579809 -1.131006 -0.117893  -0.548990 -0.393733 -0.474097   \n1     -0.128751  0.089509  1.513663 -0.117893  -0.421785  2.007708 -0.474097   \n2     -0.128751 -1.102730  0.191329 -0.117893  -0.612593 -0.583320 -0.603639   \n3     -0.128751  0.983689 -1.131006 -0.117893  -0.548990 -0.456929 -0.538868   \n4     -0.128751 -1.102730  0.191329 -0.117893  -0.485388 -0.583320 -0.474097   \n...         ...       ...       ...       ...        ...       ...       ...   \n12076 -0.128751  0.387569  0.191329 -0.117893  -0.421785 -0.393733 -0.409326   \n12077 -0.128751 -0.804670  1.513663 -0.117893  -0.612593 -0.393733 -0.603639   \n12078 -0.128751  1.281749 -1.131006 -0.117893   1.995114  2.070904  2.051972   \n12079 -0.128751 -0.208551  0.191329 -0.117893   2.058716 -0.393733  2.116743   \n12080 -0.128751 -1.102730  1.513663 -0.117893  -0.485388 -0.583320 -0.474097   \n\n          AGEDW   AGEFRZR  AGEFRZR2  ...  ZWHEATSIZ  ZWHEATSIZ2  ZWINDOWS  \\\n0     -0.276365 -0.374206 -0.094774  ...  -0.281323   -0.046441 -0.031532   \n1     -0.494722 -0.374206 -0.094774  ...   3.554636   -0.046441 -0.031532   \n2     -0.494722 -0.374206 -0.094774  ...   3.554636   -0.046441 -0.031532   \n3     -0.349150 -0.374206 -0.094774  ...  -0.281323   -0.046441 -0.031532   \n4     -0.349150 -0.374206 -0.094774  ...  -0.281323   -0.046441 -0.031532   \n...         ...       ...       ...  ...        ...         ...       ...   \n12076  2.489498 -0.121314 -0.094774  ...  -0.281323   -0.046441 -0.031532   \n12077 -0.494722 -0.374206 -0.094774  ...  -0.281323   -0.046441 -0.031532   \n12078 -0.349150 -0.374206 -0.094774  ...  -0.281323   -0.046441 -0.031532   \n12079 -0.494722 -0.374206 -0.094774  ...  -0.281323   -0.046441 -0.031532   \n12080 -0.421936 -0.374206 -0.094774  ...  -0.281323   -0.046441 -0.031532   \n\n        ZWOODAMT  ZWOODLOGS  ZWORKPAY  ZWWACAGE  ZYEARMADE  ZYEARMADERANGE  \\\n0      -0.076888  -0.018199 -0.097169  -0.10225  -0.418426       -0.161206   \n1      13.005957  -0.018199 -0.097169  -0.10225  -0.418426       -0.161206   \n2      -0.076888  -0.018199 -0.097169  -0.10225  -0.418426       -0.161206   \n3      -0.076888  -0.018199 -0.097169  -0.10225  -0.418426       -0.161206   \n4      -0.076888  -0.018199 -0.097169  -0.10225  -0.418426       -0.161206   \n...          ...        ...       ...       ...        ...             ...   \n12076  -0.076888  -0.018199 -0.097169  -0.10225  -0.418426       -0.161206   \n12077  -0.076888  -0.018199 -0.097169  -0.10225  -0.418426       -0.161206   \n12078  -0.076888  -0.018199 -0.097169  -0.10225  -0.418426       -0.161206   \n12079  -0.076888  -0.018199 -0.097169  -0.10225  -0.418426       -0.161206   \n12080  -0.076888  -0.018199 -0.097169  -0.10225  -0.418426       -0.161206   \n\n         KWH  \n0      18466  \n1       5148  \n2       2218  \n3      10015  \n4       2869  \n...      ...  \n12076   7647  \n12077   1813  \n12078   9834  \n12079   4800  \n12080   1764  \n\n[12081 rows x 917 columns]\n"
     ]
    }
   ],
   "source": [
    "to_normalize = data_df[data_df.columns.difference(['METROMICRO', 'UR', 'KWH'])]\n",
    "\n",
    "kwh = data_df['KWH']\n",
    "data_df.drop(columns = 'KWH', inplace=True)\n",
    "\n",
    "df_to_normalize = StandardScaler().fit_transform(to_normalize)\n",
    "df_to_normalize = pd.DataFrame(df_to_normalize)\n",
    "df_to_normalize.columns = data_df.columns.difference(['METROMICRO', 'UR'])\n",
    "\n",
    "\n",
    "data_df = pd.concat([df_to_normalize, kwh],axis = 1)\n",
    "print(data_df)\n",
    "\n",
    "# data_df.to_csv(\"./Data/normalized_processed.csv\", index=False)"
   ]
  },
  {
   "cell_type": "code",
   "execution_count": null,
   "metadata": {},
   "outputs": [],
   "source": []
  }
 ]
}