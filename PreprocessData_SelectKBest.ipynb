{
 "metadata": {
  "language_info": {
   "codemirror_mode": {
    "name": "ipython",
    "version": 3
   },
   "file_extension": ".py",
   "mimetype": "text/x-python",
   "name": "python",
   "nbconvert_exporter": "python",
   "pygments_lexer": "ipython3",
   "version": "3.8.8"
  },
  "orig_nbformat": 2,
  "kernelspec": {
   "name": "python388jvsc74a57bd0da8192b105ecda5fde0bc8abbca0e60ea790d745f01c42d02378997f9bf06136",
   "display_name": "Python 3.8.8 64-bit ('p38': conda)"
  },
  "metadata": {
   "interpreter": {
    "hash": "1166ed98f18d4f8d9f9a06c6037118a1e7995b4299c5d1d8c7a1e8e6e7d22ea1"
   }
  }
 },
 "nbformat": 4,
 "nbformat_minor": 2,
 "cells": [
  {
   "cell_type": "code",
   "execution_count": 3,
   "metadata": {},
   "outputs": [],
   "source": [
    "import pandas as pd\n",
    "from sklearn.feature_selection import SelectKBest, mutual_info_regression\n",
    "from sklearn.model_selection import train_test_split, GridSearchCV\n",
    "from sklearn.preprocessing import StandardScaler, MinMaxScaler\n",
    "from sklearn.linear_model import SGDRegressor, LinearRegression, Lasso, Ridge\n",
    "from sklearn.metrics import mean_squared_error, mean_absolute_error, mean_absolute_percentage_error\n",
    "from sklearn.ensemble import RandomForestRegressor "
   ]
  },
  {
   "source": [
    "pre-process"
   ],
   "cell_type": "markdown",
   "metadata": {}
  },
  {
   "cell_type": "code",
   "execution_count": 4,
   "metadata": {},
   "outputs": [],
   "source": [
    "df = pd.read_csv(r'./Data/processed.csv')\n",
    "X = df.drop(['KWH'], axis=1)\n",
    "Y = df['KWH']"
   ]
  },
  {
   "cell_type": "code",
   "execution_count": 5,
   "metadata": {},
   "outputs": [],
   "source": [
    "best_df = SelectKBest(mutual_info_regression, k = 100).fit_transform(X, Y)"
   ]
  },
  {
   "cell_type": "code",
   "execution_count": 6,
   "metadata": {},
   "outputs": [],
   "source": [
    "X_train, X_test, Y_train, Y_test = train_test_split(best_df, Y, test_size=0.3, shuffle = True, random_state = 42)"
   ]
  },
  {
   "cell_type": "code",
   "execution_count": 7,
   "metadata": {},
   "outputs": [],
   "source": [
    "scaler = MinMaxScaler().fit(X_train)\n",
    "X_train = scaler.transform(X_train)\n",
    "X_test = scaler.transform(X_test)"
   ]
  },
  {
   "source": [
    "models implementation"
   ],
   "cell_type": "markdown",
   "metadata": {}
  },
  {
   "cell_type": "code",
   "execution_count": 8,
   "metadata": {},
   "outputs": [
    {
     "output_type": "stream",
     "name": "stdout",
     "text": [
      "0.9858103168574376\n",
      "0.9866861994027922\n",
      "\n",
      "\n",
      "\n",
      "0.9857917397069654\n",
      "0.9866781204120209\n",
      "C:\\Programs\\Anaconda\\envs\\p38\\lib\\site-packages\\sklearn\\linear_model\\_coordinate_descent.py:530: ConvergenceWarning: Objective did not converge. You might want to increase the number of iterations. Duality gap: 593647246.5001335, tolerance: 51375337.476005666\n",
      "  model = cd_fast.enet_coordinate_descent(\n"
     ]
    }
   ],
   "source": [
    "reg = LinearRegression().fit(X_train, Y_train)\n",
    "print(reg.score(X_test, Y_test))\n",
    "print(reg.score(X_train, Y_train))\n",
    "\n",
    "print(\"\\n\\n\")\n",
    "\n",
    "lasso = Lasso(alpha=0.01)\n",
    "lasso.fit(X_train, Y_train)\n",
    "print(lasso.score(X_test, Y_test))\n",
    "print(lasso.score(X_train, Y_train))"
   ]
  },
  {
   "cell_type": "code",
   "execution_count": 9,
   "metadata": {},
   "outputs": [
    {
     "output_type": "stream",
     "name": "stdout",
     "text": [
      "Score: 0.8246414771458046\n"
     ]
    }
   ],
   "source": [
    "sgd = SGDRegressor(\n",
    "    random_state = 42,\n",
    "    shuffle= True, \n",
    "    early_stopping= True,\n",
    "    validation_fraction= 0.2 \n",
    ")\n",
    "\n",
    "sgd.fit(X_train, Y_train)\n",
    "print(\"Score: {}\".format(sgd.score(X_test, Y_test)))\n"
   ]
  },
  {
   "cell_type": "code",
   "execution_count": 10,
   "metadata": {},
   "outputs": [],
   "source": [
    "# sgd = SGDRegressor(\n",
    "#     loss = 'squared_loss',\n",
    "#     penalty = 'l1',\n",
    "#     alpha= 0.001,\n",
    "#     max_iter = 1000,\n",
    "#     tol = 1e-4,\n",
    "#     shuffle= True,\n",
    "#     verbose = 0,\n",
    "#     random_state = 42,\n",
    "#     learning_rate = 'adaptive',\n",
    "#     early_stopping= True ,\n",
    "#     validation_fraction= 0.2,\n",
    "# )"
   ]
  },
  {
   "cell_type": "code",
   "execution_count": 19,
   "metadata": {},
   "outputs": [],
   "source": [
    "rr = Ridge(\n",
    "    random_state=42,\n",
    "    solver = 'auto'\n",
    ")\n",
    "rf = RandomForestRegressor(\n",
    "    oob_score = True,  \n",
    "    random_state = 42,\n",
    ")\n",
    "sgd = SGDRegressor( \n",
    "    random_state=42,\n",
    "    penalty='l1', \n",
    ")\n",
    "ls = Lasso(\n",
    "    random_state = 42 \n",
    ")\n",
    "estimators = [rr, rf, sgd, ls]"
   ]
  },
  {
   "cell_type": "code",
   "execution_count": 20,
   "metadata": {},
   "outputs": [],
   "source": [
    "param_rr = {'alpha': [0.0001, 0.001, 0.01, 0.1, 1]} \n",
    "param_rf = {'n_estimators': [5, 50, 100, 200, 500], 'max_depth': [1, 5, 10, 15], 'min_samples_leaf': [1, 5, 10]}\n",
    "param_sgd = {'alpha': [0.0001, 0.001, 0.01, 0.1, 1], 'loss': ['squared_epsilon_insensitive', 'huber'], 'learning_rate': ['optimal', 'adaptive']}\n",
    "param_ls = {\"selection\":[\"cyclic\", \"random\"], 'alpha': [0.0001, 0.001, 0.01, 0.1, 1]}\n",
    " \n",
    " \n",
    "params = [param_rr, param_rf, param_sgd, param_ls]"
   ]
  },
  {
   "cell_type": "code",
   "execution_count": 21,
   "metadata": {},
   "outputs": [],
   "source": [
    "def performingGridSearch(estimators, X_train, Y_train, X_test, Y_test, params):\n",
    "  scores_train = []\n",
    "  scores_test = []\n",
    " \n",
    "  for index, estimator in enumerate(estimators):\n",
    "    model = GridSearchCV(estimator, param_grid = params[index], cv = 3, n_jobs=-1, scoring='r2', verbose = 3)\n",
    "    model.fit(X_train, Y_train)\n",
    "    best_params = model.best_params_\n",
    "    scores_train.append(model.score(X_train, Y_train))\n",
    " \n",
    "    print(\"\\n\\n Model: {} \\n\\n Best params: {} \".format(estimator, best_params))\n",
    "    scores_test.append(model.score(X_test, Y_test))\n",
    "    \n",
    "    \n",
    "    \n",
    "  return scores_train, scores_test"
   ]
  },
  {
   "cell_type": "code",
   "execution_count": 15,
   "metadata": {
    "tags": []
   },
   "outputs": [
    {
     "output_type": "stream",
     "name": "stdout",
     "text": [
      "Fitting 3 folds for each of 5 candidates, totalling 15 fits\n",
      "\n",
      "\n",
      " Model: Ridge(random_state=42) \n",
      "\n",
      " Best params: {'alpha': 0.01} \n",
      "Fitting 3 folds for each of 60 candidates, totalling 180 fits\n",
      "\n",
      "\n",
      " Model: RandomForestRegressor(oob_score=True, random_state=42) \n",
      "\n",
      " Best params: {'max_depth': 15, 'min_samples_leaf': 1, 'n_estimators': 500} \n",
      "Fitting 3 folds for each of 20 candidates, totalling 60 fits\n",
      "\n",
      "\n",
      " Model: SGDRegressor(penalty='l1', random_state=42) \n",
      "\n",
      " Best params: {'alpha': 0.001, 'learning_rate': 'adaptive', 'loss': 'squared_epsilon_insensitive'} \n",
      "Fitting 3 folds for each of 10 candidates, totalling 30 fits\n",
      "\n",
      "\n",
      " Model: Lasso(random_state=42) \n",
      "\n",
      " Best params: {'alpha': 0.1, 'selection': 'cyclic'} \n",
      "C:\\Programs\\Anaconda\\envs\\p38\\lib\\site-packages\\sklearn\\linear_model\\_coordinate_descent.py:530: ConvergenceWarning: Objective did not converge. You might want to increase the number of iterations. Duality gap: 396392682.9230375, tolerance: 51375337.476005666\n",
      "  model = cd_fast.enet_coordinate_descent(\n"
     ]
    }
   ],
   "source": [
    "scores_train, scores_val = performingGridSearch(estimators, X_train, Y_train, X_test, Y_test, params)"
   ]
  },
  {
   "cell_type": "code",
   "execution_count": 17,
   "metadata": {},
   "outputs": [
    {
     "output_type": "stream",
     "name": "stdout",
     "text": [
      "                     0                      1             2         3\nEstimators       Ridge  RandomForestRegressor  SGDRegressor     Lasso\nScores Train  0.986648               0.991172      0.984034  0.986648\nScores Val    0.985901               0.957601      0.984046  0.985898\n"
     ]
    }
   ],
   "source": [
    "estimators_names = ['Ridge', 'RandomForest', 'SGDRegressor', 'Lasso']\n",
    "models_scores = pd.DataFrame([estimators_names, scores_train, scores_val], columns = None, index = ['Estimators', 'Scores Train', 'Scores Val'])\n",
    "print(models_scores)"
   ]
  },
  {
   "cell_type": "code",
   "execution_count": 10,
   "metadata": {},
   "outputs": [
    {
     "output_type": "stream",
     "name": "stdout",
     "text": [
      "\n\n Model: GridSearchCV(cv=5,\n             estimator=SGDRegressor(early_stopping=True, random_state=42,\n                                    validation_fraction=0.2),\n             n_jobs=1,\n             param_grid={'alpha': [1, 0.1, 0.01, 0.001, 0.001, 0.0001, 1e-05],\n                         'learning_rate': ['optimal', 'invscaling', 'adaptive'],\n                         'loss': ['squared_loss', 'huber',\n                                  'epsilon_insensitive',\n                                  'squared_epsilon_insensitive'],\n                         'penalty': ['l1', 'l2'],\n                         'tol': [0.001, 0.0001, 1e-05]},\n             scoring='r2', verbose=3) \n\n Best params: {'alpha': 1e-05, 'learning_rate': 'adaptive', 'loss': 'squared_epsilon_insensitive', 'penalty': 'l1', 'tol': 0.001} \n"
     ]
    }
   ],
   "source": [
    "# best_params = model.best_params_\n",
    "# print(\"\\n\\n Model: {} \\n\\n Best params: {} \".format(model, best_params))"
   ]
  },
  {
   "cell_type": "code",
   "execution_count": 11,
   "metadata": {},
   "outputs": [
    {
     "output_type": "execute_result",
     "data": {
      "text/plain": [
       "SGDRegressor(alpha=1e-05, early_stopping=True, learning_rate='adaptive',\n",
       "             loss='squared_epsilon_insensitive', penalty='l1', random_state=42,\n",
       "             validation_fraction=0.2)"
      ]
     },
     "metadata": {},
     "execution_count": 11
    }
   ],
   "source": [
    "sgd = SGDRegressor(\n",
    "    random_state = 42,\n",
    "    shuffle= True, \n",
    "    early_stopping= True,\n",
    "    validation_fraction= 0.2,\n",
    "    loss = 'squared_epsilon_insensitive',\n",
    "    penalty = 'l1',\n",
    "    alpha = 1e-05,\n",
    "    learning_rate = 'adaptive',\n",
    "    tol = 0.001, \n",
    "\n",
    ")\n",
    "sgd.fit(X_train, y_train)"
   ]
  },
  {
   "cell_type": "code",
   "execution_count": 13,
   "metadata": {},
   "outputs": [
    {
     "output_type": "stream",
     "name": "stdout",
     "text": [
      "\n\n Train summary: \n\n\n\n\n R2 Score: 0.9499688690451299 \n\n\n MSE Score: 3039695.1716091353 \n\n\n MAE Score: 1124.2350642041351 \n\n\n Test summary: \n\n\n\n\n R2 Test Score: 0.9503455658056125 \n\n\n MSE Score: 2619006.1415181463 \n\n\n MAE Score: 1085.7797531133097 \n"
     ]
    }
   ],
   "source": [
    "print(\"\\n\\n Train summary: \\n\\n\")\n",
    "print(\"\\n\\n R2 Score: {} \".format(model.score(X_train, y_train)))\n",
    "\n",
    "y_train_pred = sgd.predict(X_train)\n",
    "print(\"\\n\\n MSE Score: {} \".format(mean_squared_error(y_train, y_train_pred)))\n",
    "print(\"\\n\\n MAE Score: {} \".format(mean_absolute_error(y_train, y_train_pred)))\n",
    "\n",
    "print(\"\\n\\n Test summary: \\n\\n\")\n",
    "y_test_pred = sgd.predict(X_test)\n",
    "\n",
    "print(\"\\n\\n R2 Test Score: {} \".format(model.score(X_test, y_test)))\n",
    "\n",
    "print(\"\\n\\n MSE Score: {} \".format(mean_squared_error(y_test, y_test_pred)))\n",
    "print(\"\\n\\n MAE Score: {} \".format(mean_absolute_error(y_test, y_test_pred)))"
   ]
  },
  {
   "cell_type": "code",
   "execution_count": 14,
   "metadata": {},
   "outputs": [
    {
     "output_type": "stream",
     "name": "stdout",
     "text": [
      "[13233.9367092   2708.7482805  27548.10541351 23462.20094868\n  3662.84483576 10571.55515894  3285.0298734  20020.33122668\n  1400.71838817 14443.87892858]\n[13796, 2467, 29209, 24099, 4501, 10469, 3997, 21627, 3101, 13540]\n"
     ]
    }
   ],
   "source": [
    "print(y_test_pred[:10])\n",
    "print(list(y_test[:10]))"
   ]
  },
  {
   "cell_type": "code",
   "execution_count": 19,
   "metadata": {},
   "outputs": [
    {
     "output_type": "stream",
     "name": "stdout",
     "text": [
      "Score: 0.9515730125936807\n"
     ]
    }
   ],
   "source": [
    "df = pd.read_csv(r'./Data/processed.csv')\n",
    "X = df.drop(['KWH'], axis=1)\n",
    "y = df['KWH']\n",
    "\n",
    "X_train, X_test, Y_train, Y_test = train_test_split(X, y, test_size=0.3, shuffle = True, random_state = 42)\n",
    "\n",
    "scaler = MinMaxScaler().fit(X_train)\n",
    "X_train = scaler.transform(X_train)\n",
    "X_test = scaler.transform(X_test)\n",
    "\n",
    "\n",
    "sgd = SGDRegressor(\n",
    "    random_state = 42,\n",
    "    shuffle= True, \n",
    "    early_stopping= True,\n",
    "    validation_fraction= 0.2,\n",
    "    loss = 'squared_epsilon_insensitive',\n",
    "    penalty = 'l1',\n",
    "    alpha = 1e-05,\n",
    "    learning_rate = 'adaptive',\n",
    "    tol = 0.001, \n",
    ")\n",
    "\n",
    "sgd.fit(X_train, Y_train)\n",
    "print(\"Score: {}\".format(sgd.score(X_test, Y_test)))"
   ]
  },
  {
   "cell_type": "code",
   "execution_count": 21,
   "metadata": {},
   "outputs": [
    {
     "output_type": "stream",
     "name": "stdout",
     "text": [
      "\n\n Train summary: \n\n\n\n\n R2 Score: 0.9599462478664899 \n\n\n MSE Score: 2433508.7902546925 \n\n\n MAE Score: 1048.8571534582022 \n\n\n Test summary: \n\n\n\n\n R2 Test Score: 0.9515730125936807 \n\n\n MSE Score: 2554264.8806721875 \n\n\n MAE Score: 1123.5811108095636 \n"
     ]
    }
   ],
   "source": [
    "print(\"\\n\\n Train summary: \\n\\n\")\n",
    "print(\"\\n\\n R2 Score: {} \".format(sgd.score(X_train, Y_train)))\n",
    "\n",
    "y_train_pred = sgd.predict(X_train)\n",
    "print(\"\\n\\n MSE Score: {} \".format(mean_squared_error(Y_train, y_train_pred)))\n",
    "print(\"\\n\\n MAE Score: {} \".format(mean_absolute_error(Y_train, y_train_pred)))\n",
    "\n",
    "print(\"\\n\\n Test summary: \\n\\n\")\n",
    "y_test_pred = sgd.predict(X_test)\n",
    "\n",
    "print(\"\\n\\n R2 Test Score: {} \".format(sgd.score(X_test, y_test)))\n",
    "\n",
    "print(\"\\n\\n MSE Score: {} \".format(mean_squared_error(Y_test, y_test_pred)))\n",
    "print(\"\\n\\n MAE Score: {} \".format(mean_absolute_error(Y_test, y_test_pred)))"
   ]
  }
 ]
}