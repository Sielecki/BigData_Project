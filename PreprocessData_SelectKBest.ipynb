{
 "metadata": {
  "language_info": {
   "codemirror_mode": {
    "name": "ipython",
    "version": 3
   },
   "file_extension": ".py",
   "mimetype": "text/x-python",
   "name": "python",
   "nbconvert_exporter": "python",
   "pygments_lexer": "ipython3",
   "version": "3.8.8"
  },
  "orig_nbformat": 2,
  "kernelspec": {
   "name": "python388jvsc74a57bd0da8192b105ecda5fde0bc8abbca0e60ea790d745f01c42d02378997f9bf06136",
   "display_name": "Python 3.8.8 64-bit ('p38': conda)"
  },
  "metadata": {
   "interpreter": {
    "hash": "1166ed98f18d4f8d9f9a06c6037118a1e7995b4299c5d1d8c7a1e8e6e7d22ea1"
   }
  }
 },
 "nbformat": 4,
 "nbformat_minor": 2,
 "cells": [
  {
   "cell_type": "code",
   "execution_count": 12,
   "metadata": {},
   "outputs": [],
   "source": [
    "import pandas as pd\n",
    "from sklearn.feature_selection import SelectKBest, mutual_info_regression\n",
    "from sklearn.model_selection import train_test_split, GridSearchCV\n",
    "from sklearn.preprocessing import StandardScaler, MinMaxScaler\n",
    "from sklearn.linear_model import SGDRegressor, LinearRegression\n",
    "from sklearn.metrics import mean_squared_error, mean_absolute_error"
   ]
  },
  {
   "source": [
    "pre-process"
   ],
   "cell_type": "markdown",
   "metadata": {}
  },
  {
   "cell_type": "code",
   "execution_count": 8,
   "metadata": {},
   "outputs": [],
   "source": [
    "df = pd.read_csv(r'./Data/processed.csv')\n",
    "X = df.drop(['KWH'], axis=1)\n",
    "y = df['KWH']"
   ]
  },
  {
   "cell_type": "code",
   "execution_count": 9,
   "metadata": {},
   "outputs": [],
   "source": [
    "best_df = SelectKBest(mutual_info_regression, k = 100).fit_transform(X, y)"
   ]
  },
  {
   "cell_type": "code",
   "execution_count": 10,
   "metadata": {},
   "outputs": [],
   "source": [
    "X_train, X_test, Y_train, Y_test = train_test_split(best_df, y, test_size=0.3, shuffle = True, random_state = 42)"
   ]
  },
  {
   "cell_type": "code",
   "execution_count": 14,
   "metadata": {},
   "outputs": [],
   "source": [
    "scaler = MinMaxScaler().fit(X_train)\n",
    "X_train = scaler.transform(X_train)\n",
    "X_test = scaler.transform(X_test)"
   ]
  },
  {
   "cell_type": "code",
   "execution_count": 15,
   "metadata": {},
   "outputs": [
    {
     "output_type": "stream",
     "name": "stdout",
     "text": [
      "0.9858133554933989\n0.986690471221065\n"
     ]
    }
   ],
   "source": [
    "reg = LinearRegression().fit(X_train, Y_train)\n",
    "print(reg.score(X_test, Y_test))\n",
    "print(reg.score(X_train, Y_train))"
   ]
  },
  {
   "source": [
    "models implementation"
   ],
   "cell_type": "markdown",
   "metadata": {}
  },
  {
   "cell_type": "code",
   "execution_count": 6,
   "metadata": {},
   "outputs": [
    {
     "output_type": "stream",
     "name": "stdout",
     "text": [
      "Score: 0.8251079463800479\n"
     ]
    }
   ],
   "source": [
    "sgd = SGDRegressor(\n",
    "    random_state = 42,\n",
    "    shuffle= True, \n",
    "    early_stopping= True,\n",
    "    validation_fraction= 0.2 \n",
    ")\n",
    "\n",
    "sgd.fit(X_train, y_train)\n",
    "print(\"Score: {}\".format(sgd.score(X_test, y_test)))\n"
   ]
  },
  {
   "cell_type": "code",
   "execution_count": null,
   "metadata": {},
   "outputs": [],
   "source": [
    "# sgd = SGDRegressor(\n",
    "#     loss = 'squared_loss',\n",
    "#     penalty = 'l1',\n",
    "#     alpha= 0.001,\n",
    "#     max_iter = 1000,\n",
    "#     tol = 1e-4,\n",
    "#     shuffle= True,\n",
    "#     verbose = 0,\n",
    "#     random_state = 42,\n",
    "#     learning_rate = 'adaptive',\n",
    "#     early_stopping= True ,\n",
    "#     validation_fraction= 0.2,\n",
    "# )"
   ]
  },
  {
   "cell_type": "code",
   "execution_count": 9,
   "metadata": {
    "tags": [
     "outputPrepend"
    ]
   },
   "outputs": [
    {
     "output_type": "stream",
     "name": "stdout",
     "text": [
      " loss=squared_epsilon_insensitive, penalty=l2, tol=0.0001; total time=   0.0s\n",
      "[CV 1/5] END alpha=1e-05, learning_rate=invscaling, loss=squared_epsilon_insensitive, penalty=l2, tol=1e-05; total time=   0.0s\n",
      "[CV 2/5] END alpha=1e-05, learning_rate=invscaling, loss=squared_epsilon_insensitive, penalty=l2, tol=1e-05; total time=   0.0s\n",
      "[CV 3/5] END alpha=1e-05, learning_rate=invscaling, loss=squared_epsilon_insensitive, penalty=l2, tol=1e-05; total time=   0.0s\n",
      "[CV 4/5] END alpha=1e-05, learning_rate=invscaling, loss=squared_epsilon_insensitive, penalty=l2, tol=1e-05; total time=   0.0s\n",
      "[CV 5/5] END alpha=1e-05, learning_rate=invscaling, loss=squared_epsilon_insensitive, penalty=l2, tol=1e-05; total time=   0.0s\n",
      "[CV 1/5] END alpha=1e-05, learning_rate=adaptive, loss=squared_loss, penalty=l1, tol=0.001; total time=   0.2s\n",
      "[CV 2/5] END alpha=1e-05, learning_rate=adaptive, loss=squared_loss, penalty=l1, tol=0.001; total time=   0.2s\n",
      "[CV 3/5] END alpha=1e-05, learning_rate=adaptive, loss=squared_loss, penalty=l1, tol=0.001; total time=   0.3s\n",
      "[CV 4/5] END alpha=1e-05, learning_rate=adaptive, loss=squared_loss, penalty=l1, tol=0.001; total time=   0.2s\n",
      "[CV 5/5] END alpha=1e-05, learning_rate=adaptive, loss=squared_loss, penalty=l1, tol=0.001; total time=   0.3s\n",
      "[CV 1/5] END alpha=1e-05, learning_rate=adaptive, loss=squared_loss, penalty=l1, tol=0.0001; total time=   0.2s\n",
      "[CV 2/5] END alpha=1e-05, learning_rate=adaptive, loss=squared_loss, penalty=l1, tol=0.0001; total time=   0.2s\n",
      "[CV 3/5] END alpha=1e-05, learning_rate=adaptive, loss=squared_loss, penalty=l1, tol=0.0001; total time=   0.3s\n",
      "[CV 4/5] END alpha=1e-05, learning_rate=adaptive, loss=squared_loss, penalty=l1, tol=0.0001; total time=   0.2s\n",
      "[CV 5/5] END alpha=1e-05, learning_rate=adaptive, loss=squared_loss, penalty=l1, tol=0.0001; total time=   0.3s\n",
      "[CV 1/5] END alpha=1e-05, learning_rate=adaptive, loss=squared_loss, penalty=l1, tol=1e-05; total time=   0.3s\n",
      "[CV 2/5] END alpha=1e-05, learning_rate=adaptive, loss=squared_loss, penalty=l1, tol=1e-05; total time=   0.2s\n",
      "[CV 3/5] END alpha=1e-05, learning_rate=adaptive, loss=squared_loss, penalty=l1, tol=1e-05; total time=   0.3s\n",
      "[CV 4/5] END alpha=1e-05, learning_rate=adaptive, loss=squared_loss, penalty=l1, tol=1e-05; total time=   0.2s\n",
      "[CV 5/5] END alpha=1e-05, learning_rate=adaptive, loss=squared_loss, penalty=l1, tol=1e-05; total time=   0.3s\n",
      "[CV 1/5] END alpha=1e-05, learning_rate=adaptive, loss=squared_loss, penalty=l2, tol=0.001; total time=   0.1s\n",
      "[CV 2/5] END alpha=1e-05, learning_rate=adaptive, loss=squared_loss, penalty=l2, tol=0.001; total time=   0.2s\n",
      "[CV 3/5] END alpha=1e-05, learning_rate=adaptive, loss=squared_loss, penalty=l2, tol=0.001; total time=   0.1s\n",
      "[CV 4/5] END alpha=1e-05, learning_rate=adaptive, loss=squared_loss, penalty=l2, tol=0.001; total time=   0.1s\n",
      "[CV 5/5] END alpha=1e-05, learning_rate=adaptive, loss=squared_loss, penalty=l2, tol=0.001; total time=   0.1s\n",
      "[CV 1/5] END alpha=1e-05, learning_rate=adaptive, loss=squared_loss, penalty=l2, tol=0.0001; total time=   0.1s\n",
      "[CV 2/5] END alpha=1e-05, learning_rate=adaptive, loss=squared_loss, penalty=l2, tol=0.0001; total time=   0.2s\n",
      "[CV 3/5] END alpha=1e-05, learning_rate=adaptive, loss=squared_loss, penalty=l2, tol=0.0001; total time=   0.1s\n",
      "[CV 4/5] END alpha=1e-05, learning_rate=adaptive, loss=squared_loss, penalty=l2, tol=0.0001; total time=   0.1s\n",
      "[CV 5/5] END alpha=1e-05, learning_rate=adaptive, loss=squared_loss, penalty=l2, tol=0.0001; total time=   0.1s\n",
      "[CV 1/5] END alpha=1e-05, learning_rate=adaptive, loss=squared_loss, penalty=l2, tol=1e-05; total time=   0.1s\n",
      "[CV 2/5] END alpha=1e-05, learning_rate=adaptive, loss=squared_loss, penalty=l2, tol=1e-05; total time=   0.1s\n",
      "[CV 3/5] END alpha=1e-05, learning_rate=adaptive, loss=squared_loss, penalty=l2, tol=1e-05; total time=   0.1s\n",
      "[CV 4/5] END alpha=1e-05, learning_rate=adaptive, loss=squared_loss, penalty=l2, tol=1e-05; total time=   0.1s\n",
      "[CV 5/5] END alpha=1e-05, learning_rate=adaptive, loss=squared_loss, penalty=l2, tol=1e-05; total time=   0.2s\n",
      "[CV 1/5] END alpha=1e-05, learning_rate=adaptive, loss=huber, penalty=l1, tol=0.001; total time=   5.6s\n",
      "[CV 2/5] END alpha=1e-05, learning_rate=adaptive, loss=huber, penalty=l1, tol=0.001; total time=   6.1s\n",
      "[CV 3/5] END alpha=1e-05, learning_rate=adaptive, loss=huber, penalty=l1, tol=0.001; total time=   5.8s\n",
      "[CV 4/5] END alpha=1e-05, learning_rate=adaptive, loss=huber, penalty=l1, tol=0.001; total time=   6.2s\n",
      "[CV 5/5] END alpha=1e-05, learning_rate=adaptive, loss=huber, penalty=l1, tol=0.001; total time=   6.0s\n",
      "C:\\Users\\Daniel Ciovica\\miniconda3\\envs\\bigdata\\lib\\site-packages\\sklearn\\linear_model\\_stochastic_gradient.py:1220: ConvergenceWarning: Maximum number of iteration reached before convergence. Consider increasing max_iter to improve the fit.\n",
      "  warnings.warn(\"Maximum number of iteration reached before \"\n",
      "[CV 1/5] END alpha=1e-05, learning_rate=adaptive, loss=huber, penalty=l1, tol=0.0001; total time=   8.9s\n",
      "C:\\Users\\Daniel Ciovica\\miniconda3\\envs\\bigdata\\lib\\site-packages\\sklearn\\linear_model\\_stochastic_gradient.py:1220: ConvergenceWarning: Maximum number of iteration reached before convergence. Consider increasing max_iter to improve the fit.\n",
      "  warnings.warn(\"Maximum number of iteration reached before \"\n",
      "[CV 2/5] END alpha=1e-05, learning_rate=adaptive, loss=huber, penalty=l1, tol=0.0001; total time=   9.3s\n",
      "C:\\Users\\Daniel Ciovica\\miniconda3\\envs\\bigdata\\lib\\site-packages\\sklearn\\linear_model\\_stochastic_gradient.py:1220: ConvergenceWarning: Maximum number of iteration reached before convergence. Consider increasing max_iter to improve the fit.\n",
      "  warnings.warn(\"Maximum number of iteration reached before \"\n",
      "[CV 3/5] END alpha=1e-05, learning_rate=adaptive, loss=huber, penalty=l1, tol=0.0001; total time=   8.0s\n",
      "C:\\Users\\Daniel Ciovica\\miniconda3\\envs\\bigdata\\lib\\site-packages\\sklearn\\linear_model\\_stochastic_gradient.py:1220: ConvergenceWarning: Maximum number of iteration reached before convergence. Consider increasing max_iter to improve the fit.\n",
      "  warnings.warn(\"Maximum number of iteration reached before \"\n",
      "[CV 4/5] END alpha=1e-05, learning_rate=adaptive, loss=huber, penalty=l1, tol=0.0001; total time=   8.2s\n",
      "C:\\Users\\Daniel Ciovica\\miniconda3\\envs\\bigdata\\lib\\site-packages\\sklearn\\linear_model\\_stochastic_gradient.py:1220: ConvergenceWarning: Maximum number of iteration reached before convergence. Consider increasing max_iter to improve the fit.\n",
      "  warnings.warn(\"Maximum number of iteration reached before \"\n",
      "[CV 5/5] END alpha=1e-05, learning_rate=adaptive, loss=huber, penalty=l1, tol=0.0001; total time=   8.0s\n",
      "C:\\Users\\Daniel Ciovica\\miniconda3\\envs\\bigdata\\lib\\site-packages\\sklearn\\linear_model\\_stochastic_gradient.py:1220: ConvergenceWarning: Maximum number of iteration reached before convergence. Consider increasing max_iter to improve the fit.\n",
      "  warnings.warn(\"Maximum number of iteration reached before \"\n",
      "[CV 1/5] END alpha=1e-05, learning_rate=adaptive, loss=huber, penalty=l1, tol=1e-05; total time=   7.8s\n",
      "C:\\Users\\Daniel Ciovica\\miniconda3\\envs\\bigdata\\lib\\site-packages\\sklearn\\linear_model\\_stochastic_gradient.py:1220: ConvergenceWarning: Maximum number of iteration reached before convergence. Consider increasing max_iter to improve the fit.\n",
      "  warnings.warn(\"Maximum number of iteration reached before \"\n",
      "[CV 2/5] END alpha=1e-05, learning_rate=adaptive, loss=huber, penalty=l1, tol=1e-05; total time=   7.3s\n",
      "C:\\Users\\Daniel Ciovica\\miniconda3\\envs\\bigdata\\lib\\site-packages\\sklearn\\linear_model\\_stochastic_gradient.py:1220: ConvergenceWarning: Maximum number of iteration reached before convergence. Consider increasing max_iter to improve the fit.\n",
      "  warnings.warn(\"Maximum number of iteration reached before \"\n",
      "[CV 3/5] END alpha=1e-05, learning_rate=adaptive, loss=huber, penalty=l1, tol=1e-05; total time=   7.8s\n",
      "C:\\Users\\Daniel Ciovica\\miniconda3\\envs\\bigdata\\lib\\site-packages\\sklearn\\linear_model\\_stochastic_gradient.py:1220: ConvergenceWarning: Maximum number of iteration reached before convergence. Consider increasing max_iter to improve the fit.\n",
      "  warnings.warn(\"Maximum number of iteration reached before \"\n",
      "[CV 4/5] END alpha=1e-05, learning_rate=adaptive, loss=huber, penalty=l1, tol=1e-05; total time=   6.8s\n",
      "C:\\Users\\Daniel Ciovica\\miniconda3\\envs\\bigdata\\lib\\site-packages\\sklearn\\linear_model\\_stochastic_gradient.py:1220: ConvergenceWarning: Maximum number of iteration reached before convergence. Consider increasing max_iter to improve the fit.\n",
      "  warnings.warn(\"Maximum number of iteration reached before \"\n",
      "[CV 5/5] END alpha=1e-05, learning_rate=adaptive, loss=huber, penalty=l1, tol=1e-05; total time=   7.0s\n",
      "[CV 1/5] END alpha=1e-05, learning_rate=adaptive, loss=huber, penalty=l2, tol=0.001; total time=   2.1s\n",
      "[CV 2/5] END alpha=1e-05, learning_rate=adaptive, loss=huber, penalty=l2, tol=0.001; total time=   3.4s\n",
      "[CV 3/5] END alpha=1e-05, learning_rate=adaptive, loss=huber, penalty=l2, tol=0.001; total time=   3.5s\n",
      "[CV 4/5] END alpha=1e-05, learning_rate=adaptive, loss=huber, penalty=l2, tol=0.001; total time=   3.2s\n",
      "[CV 5/5] END alpha=1e-05, learning_rate=adaptive, loss=huber, penalty=l2, tol=0.001; total time=   3.5s\n",
      "[CV 1/5] END alpha=1e-05, learning_rate=adaptive, loss=huber, penalty=l2, tol=0.0001; total time=   2.4s\n",
      "[CV 2/5] END alpha=1e-05, learning_rate=adaptive, loss=huber, penalty=l2, tol=0.0001; total time=   4.5s\n",
      "[CV 3/5] END alpha=1e-05, learning_rate=adaptive, loss=huber, penalty=l2, tol=0.0001; total time=   4.6s\n",
      "[CV 4/5] END alpha=1e-05, learning_rate=adaptive, loss=huber, penalty=l2, tol=0.0001; total time=   4.5s\n",
      "[CV 5/5] END alpha=1e-05, learning_rate=adaptive, loss=huber, penalty=l2, tol=0.0001; total time=   4.3s\n",
      "[CV 1/5] END alpha=1e-05, learning_rate=adaptive, loss=huber, penalty=l2, tol=1e-05; total time=   2.4s\n",
      "[CV 2/5] END alpha=1e-05, learning_rate=adaptive, loss=huber, penalty=l2, tol=1e-05; total time=   4.6s\n",
      "[CV 3/5] END alpha=1e-05, learning_rate=adaptive, loss=huber, penalty=l2, tol=1e-05; total time=   4.2s\n",
      "[CV 4/5] END alpha=1e-05, learning_rate=adaptive, loss=huber, penalty=l2, tol=1e-05; total time=   4.2s\n",
      "[CV 5/5] END alpha=1e-05, learning_rate=adaptive, loss=huber, penalty=l2, tol=1e-05; total time=   4.4s\n",
      "[CV 1/5] END alpha=1e-05, learning_rate=adaptive, loss=epsilon_insensitive, penalty=l1, tol=0.001; total time=   1.1s\n",
      "[CV 2/5] END alpha=1e-05, learning_rate=adaptive, loss=epsilon_insensitive, penalty=l1, tol=0.001; total time=   2.6s\n",
      "[CV 3/5] END alpha=1e-05, learning_rate=adaptive, loss=epsilon_insensitive, penalty=l1, tol=0.001; total time=   2.5s\n",
      "[CV 4/5] END alpha=1e-05, learning_rate=adaptive, loss=epsilon_insensitive, penalty=l1, tol=0.001; total time=   2.3s\n",
      "[CV 5/5] END alpha=1e-05, learning_rate=adaptive, loss=epsilon_insensitive, penalty=l1, tol=0.001; total time=   2.5s\n",
      "[CV 1/5] END alpha=1e-05, learning_rate=adaptive, loss=epsilon_insensitive, penalty=l1, tol=0.0001; total time=   1.1s\n",
      "C:\\Users\\Daniel Ciovica\\miniconda3\\envs\\bigdata\\lib\\site-packages\\sklearn\\linear_model\\_stochastic_gradient.py:1220: ConvergenceWarning: Maximum number of iteration reached before convergence. Consider increasing max_iter to improve the fit.\n",
      "  warnings.warn(\"Maximum number of iteration reached before \"\n",
      "[CV 2/5] END alpha=1e-05, learning_rate=adaptive, loss=epsilon_insensitive, penalty=l1, tol=0.0001; total time=   7.3s\n",
      "C:\\Users\\Daniel Ciovica\\miniconda3\\envs\\bigdata\\lib\\site-packages\\sklearn\\linear_model\\_stochastic_gradient.py:1220: ConvergenceWarning: Maximum number of iteration reached before convergence. Consider increasing max_iter to improve the fit.\n",
      "  warnings.warn(\"Maximum number of iteration reached before \"\n",
      "[CV 3/5] END alpha=1e-05, learning_rate=adaptive, loss=epsilon_insensitive, penalty=l1, tol=0.0001; total time=   7.4s\n",
      "C:\\Users\\Daniel Ciovica\\miniconda3\\envs\\bigdata\\lib\\site-packages\\sklearn\\linear_model\\_stochastic_gradient.py:1220: ConvergenceWarning: Maximum number of iteration reached before convergence. Consider increasing max_iter to improve the fit.\n",
      "  warnings.warn(\"Maximum number of iteration reached before \"\n",
      "[CV 4/5] END alpha=1e-05, learning_rate=adaptive, loss=epsilon_insensitive, penalty=l1, tol=0.0001; total time=   7.3s\n",
      "C:\\Users\\Daniel Ciovica\\miniconda3\\envs\\bigdata\\lib\\site-packages\\sklearn\\linear_model\\_stochastic_gradient.py:1220: ConvergenceWarning: Maximum number of iteration reached before convergence. Consider increasing max_iter to improve the fit.\n",
      "  warnings.warn(\"Maximum number of iteration reached before \"\n",
      "[CV 5/5] END alpha=1e-05, learning_rate=adaptive, loss=epsilon_insensitive, penalty=l1, tol=0.0001; total time=   7.2s\n",
      "[CV 1/5] END alpha=1e-05, learning_rate=adaptive, loss=epsilon_insensitive, penalty=l1, tol=1e-05; total time=   1.2s\n",
      "C:\\Users\\Daniel Ciovica\\miniconda3\\envs\\bigdata\\lib\\site-packages\\sklearn\\linear_model\\_stochastic_gradient.py:1220: ConvergenceWarning: Maximum number of iteration reached before convergence. Consider increasing max_iter to improve the fit.\n",
      "  warnings.warn(\"Maximum number of iteration reached before \"\n",
      "[CV 2/5] END alpha=1e-05, learning_rate=adaptive, loss=epsilon_insensitive, penalty=l1, tol=1e-05; total time=   7.7s\n",
      "C:\\Users\\Daniel Ciovica\\miniconda3\\envs\\bigdata\\lib\\site-packages\\sklearn\\linear_model\\_stochastic_gradient.py:1220: ConvergenceWarning: Maximum number of iteration reached before convergence. Consider increasing max_iter to improve the fit.\n",
      "  warnings.warn(\"Maximum number of iteration reached before \"\n",
      "[CV 3/5] END alpha=1e-05, learning_rate=adaptive, loss=epsilon_insensitive, penalty=l1, tol=1e-05; total time=   8.0s\n",
      "C:\\Users\\Daniel Ciovica\\miniconda3\\envs\\bigdata\\lib\\site-packages\\sklearn\\linear_model\\_stochastic_gradient.py:1220: ConvergenceWarning: Maximum number of iteration reached before convergence. Consider increasing max_iter to improve the fit.\n",
      "  warnings.warn(\"Maximum number of iteration reached before \"\n",
      "[CV 4/5] END alpha=1e-05, learning_rate=adaptive, loss=epsilon_insensitive, penalty=l1, tol=1e-05; total time=   8.1s\n",
      "C:\\Users\\Daniel Ciovica\\miniconda3\\envs\\bigdata\\lib\\site-packages\\sklearn\\linear_model\\_stochastic_gradient.py:1220: ConvergenceWarning: Maximum number of iteration reached before convergence. Consider increasing max_iter to improve the fit.\n",
      "  warnings.warn(\"Maximum number of iteration reached before \"\n",
      "[CV 5/5] END alpha=1e-05, learning_rate=adaptive, loss=epsilon_insensitive, penalty=l1, tol=1e-05; total time=   8.1s\n",
      "[CV 1/5] END alpha=1e-05, learning_rate=adaptive, loss=epsilon_insensitive, penalty=l2, tol=0.001; total time=   0.7s\n",
      "[CV 2/5] END alpha=1e-05, learning_rate=adaptive, loss=epsilon_insensitive, penalty=l2, tol=0.001; total time=   2.1s\n",
      "[CV 3/5] END alpha=1e-05, learning_rate=adaptive, loss=epsilon_insensitive, penalty=l2, tol=0.001; total time=   2.1s\n",
      "[CV 4/5] END alpha=1e-05, learning_rate=adaptive, loss=epsilon_insensitive, penalty=l2, tol=0.001; total time=   2.1s\n",
      "[CV 5/5] END alpha=1e-05, learning_rate=adaptive, loss=epsilon_insensitive, penalty=l2, tol=0.001; total time=   2.1s\n",
      "[CV 1/5] END alpha=1e-05, learning_rate=adaptive, loss=epsilon_insensitive, penalty=l2, tol=0.0001; total time=   0.6s\n",
      "[CV 2/5] END alpha=1e-05, learning_rate=adaptive, loss=epsilon_insensitive, penalty=l2, tol=0.0001; total time=   2.7s\n",
      "[CV 3/5] END alpha=1e-05, learning_rate=adaptive, loss=epsilon_insensitive, penalty=l2, tol=0.0001; total time=   2.8s\n",
      "[CV 4/5] END alpha=1e-05, learning_rate=adaptive, loss=epsilon_insensitive, penalty=l2, tol=0.0001; total time=   2.8s\n",
      "[CV 5/5] END alpha=1e-05, learning_rate=adaptive, loss=epsilon_insensitive, penalty=l2, tol=0.0001; total time=   2.5s\n",
      "[CV 1/5] END alpha=1e-05, learning_rate=adaptive, loss=epsilon_insensitive, penalty=l2, tol=1e-05; total time=   0.6s\n",
      "[CV 2/5] END alpha=1e-05, learning_rate=adaptive, loss=epsilon_insensitive, penalty=l2, tol=1e-05; total time=   2.6s\n",
      "[CV 3/5] END alpha=1e-05, learning_rate=adaptive, loss=epsilon_insensitive, penalty=l2, tol=1e-05; total time=   2.7s\n",
      "[CV 4/5] END alpha=1e-05, learning_rate=adaptive, loss=epsilon_insensitive, penalty=l2, tol=1e-05; total time=   2.6s\n",
      "[CV 5/5] END alpha=1e-05, learning_rate=adaptive, loss=epsilon_insensitive, penalty=l2, tol=1e-05; total time=   2.4s\n",
      "[CV 1/5] END alpha=1e-05, learning_rate=adaptive, loss=squared_epsilon_insensitive, penalty=l1, tol=0.001; total time=   0.2s\n",
      "[CV 2/5] END alpha=1e-05, learning_rate=adaptive, loss=squared_epsilon_insensitive, penalty=l1, tol=0.001; total time=   0.3s\n",
      "[CV 3/5] END alpha=1e-05, learning_rate=adaptive, loss=squared_epsilon_insensitive, penalty=l1, tol=0.001; total time=   0.2s\n",
      "[CV 4/5] END alpha=1e-05, learning_rate=adaptive, loss=squared_epsilon_insensitive, penalty=l1, tol=0.001; total time=   0.2s\n",
      "[CV 5/5] END alpha=1e-05, learning_rate=adaptive, loss=squared_epsilon_insensitive, penalty=l1, tol=0.001; total time=   0.2s\n",
      "[CV 1/5] END alpha=1e-05, learning_rate=adaptive, loss=squared_epsilon_insensitive, penalty=l1, tol=0.0001; total time=   0.2s\n",
      "[CV 2/5] END alpha=1e-05, learning_rate=adaptive, loss=squared_epsilon_insensitive, penalty=l1, tol=0.0001; total time=   0.2s\n",
      "[CV 3/5] END alpha=1e-05, learning_rate=adaptive, loss=squared_epsilon_insensitive, penalty=l1, tol=0.0001; total time=   0.2s\n",
      "[CV 4/5] END alpha=1e-05, learning_rate=adaptive, loss=squared_epsilon_insensitive, penalty=l1, tol=0.0001; total time=   0.2s\n",
      "[CV 5/5] END alpha=1e-05, learning_rate=adaptive, loss=squared_epsilon_insensitive, penalty=l1, tol=0.0001; total time=   0.3s\n",
      "[CV 1/5] END alpha=1e-05, learning_rate=adaptive, loss=squared_epsilon_insensitive, penalty=l1, tol=1e-05; total time=   0.2s\n",
      "[CV 2/5] END alpha=1e-05, learning_rate=adaptive, loss=squared_epsilon_insensitive, penalty=l1, tol=1e-05; total time=   0.2s\n",
      "[CV 3/5] END alpha=1e-05, learning_rate=adaptive, loss=squared_epsilon_insensitive, penalty=l1, tol=1e-05; total time=   0.2s\n",
      "[CV 4/5] END alpha=1e-05, learning_rate=adaptive, loss=squared_epsilon_insensitive, penalty=l1, tol=1e-05; total time=   0.2s\n",
      "[CV 5/5] END alpha=1e-05, learning_rate=adaptive, loss=squared_epsilon_insensitive, penalty=l1, tol=1e-05; total time=   0.3s\n",
      "[CV 1/5] END alpha=1e-05, learning_rate=adaptive, loss=squared_epsilon_insensitive, penalty=l2, tol=0.001; total time=   0.1s\n",
      "[CV 2/5] END alpha=1e-05, learning_rate=adaptive, loss=squared_epsilon_insensitive, penalty=l2, tol=0.001; total time=   0.1s\n",
      "[CV 3/5] END alpha=1e-05, learning_rate=adaptive, loss=squared_epsilon_insensitive, penalty=l2, tol=0.001; total time=   0.1s\n",
      "[CV 4/5] END alpha=1e-05, learning_rate=adaptive, loss=squared_epsilon_insensitive, penalty=l2, tol=0.001; total time=   0.1s\n",
      "[CV 5/5] END alpha=1e-05, learning_rate=adaptive, loss=squared_epsilon_insensitive, penalty=l2, tol=0.001; total time=   0.2s\n",
      "[CV 1/5] END alpha=1e-05, learning_rate=adaptive, loss=squared_epsilon_insensitive, penalty=l2, tol=0.0001; total time=   0.1s\n",
      "[CV 2/5] END alpha=1e-05, learning_rate=adaptive, loss=squared_epsilon_insensitive, penalty=l2, tol=0.0001; total time=   0.1s\n",
      "[CV 3/5] END alpha=1e-05, learning_rate=adaptive, loss=squared_epsilon_insensitive, penalty=l2, tol=0.0001; total time=   0.1s\n",
      "[CV 4/5] END alpha=1e-05, learning_rate=adaptive, loss=squared_epsilon_insensitive, penalty=l2, tol=0.0001; total time=   0.1s\n",
      "[CV 5/5] END alpha=1e-05, learning_rate=adaptive, loss=squared_epsilon_insensitive, penalty=l2, tol=0.0001; total time=   0.1s\n",
      "[CV 1/5] END alpha=1e-05, learning_rate=adaptive, loss=squared_epsilon_insensitive, penalty=l2, tol=1e-05; total time=   0.1s\n",
      "[CV 2/5] END alpha=1e-05, learning_rate=adaptive, loss=squared_epsilon_insensitive, penalty=l2, tol=1e-05; total time=   0.1s\n",
      "[CV 3/5] END alpha=1e-05, learning_rate=adaptive, loss=squared_epsilon_insensitive, penalty=l2, tol=1e-05; total time=   0.1s\n",
      "[CV 4/5] END alpha=1e-05, learning_rate=adaptive, loss=squared_epsilon_insensitive, penalty=l2, tol=1e-05; total time=   0.1s\n",
      "[CV 5/5] END alpha=1e-05, learning_rate=adaptive, loss=squared_epsilon_insensitive, penalty=l2, tol=1e-05; total time=   0.1s\n"
     ]
    },
    {
     "output_type": "error",
     "ename": "NameError",
     "evalue": "name 'estimator' is not defined",
     "traceback": [
      "\u001b[1;31m---------------------------------------------------------------------------\u001b[0m",
      "\u001b[1;31mNameError\u001b[0m                                 Traceback (most recent call last)",
      "\u001b[1;32m<ipython-input-9-f5f8d47286a3>\u001b[0m in \u001b[0;36m<module>\u001b[1;34m\u001b[0m\n\u001b[0;32m      5\u001b[0m \u001b[0mmodel\u001b[0m\u001b[1;33m.\u001b[0m\u001b[0mfit\u001b[0m\u001b[1;33m(\u001b[0m\u001b[0mX_train\u001b[0m\u001b[1;33m,\u001b[0m \u001b[0my_train\u001b[0m\u001b[1;33m)\u001b[0m\u001b[1;33m\u001b[0m\u001b[1;33m\u001b[0m\u001b[0m\n\u001b[0;32m      6\u001b[0m \u001b[0mbest_params\u001b[0m \u001b[1;33m=\u001b[0m \u001b[0mmodel\u001b[0m\u001b[1;33m.\u001b[0m\u001b[0mbest_params_\u001b[0m\u001b[1;33m\u001b[0m\u001b[1;33m\u001b[0m\u001b[0m\n\u001b[1;32m----> 7\u001b[1;33m \u001b[0mprint\u001b[0m\u001b[1;33m(\u001b[0m\u001b[1;34m\"\\n\\n Model: {} \\n\\n Best params: {} \"\u001b[0m\u001b[1;33m.\u001b[0m\u001b[0mformat\u001b[0m\u001b[1;33m(\u001b[0m\u001b[0mestimator\u001b[0m\u001b[1;33m,\u001b[0m \u001b[0mbest_params\u001b[0m\u001b[1;33m)\u001b[0m\u001b[1;33m)\u001b[0m\u001b[1;33m\u001b[0m\u001b[1;33m\u001b[0m\u001b[0m\n\u001b[0m",
      "\u001b[1;31mNameError\u001b[0m: name 'estimator' is not defined"
     ]
    }
   ],
   "source": [
    "params = {\n",
    "    'loss': ['squared_loss', 'huber', 'epsilon_insensitive', 'squared_epsilon_insensitive'],\n",
    "    'penalty': ['l1', 'l2'],\n",
    "    'alpha': [1, 0.1, 0.01, 0.001, 0.001, 0.0001, 0.00001], \n",
    "    'learning_rate': ['optimal', 'invscaling', 'adaptive'], \n",
    "    'tol': [1e-3, 1e-4, 1e-5]\n",
    "}\n",
    "model = GridSearchCV(sgd, param_grid = params, cv = 5, n_jobs=1, scoring='r2', verbose = 3)\n",
    "model.fit(X_train, y_train)\n"
   ]
  },
  {
   "cell_type": "code",
   "execution_count": 10,
   "metadata": {},
   "outputs": [
    {
     "output_type": "stream",
     "name": "stdout",
     "text": [
      "\n\n Model: GridSearchCV(cv=5,\n             estimator=SGDRegressor(early_stopping=True, random_state=42,\n                                    validation_fraction=0.2),\n             n_jobs=1,\n             param_grid={'alpha': [1, 0.1, 0.01, 0.001, 0.001, 0.0001, 1e-05],\n                         'learning_rate': ['optimal', 'invscaling', 'adaptive'],\n                         'loss': ['squared_loss', 'huber',\n                                  'epsilon_insensitive',\n                                  'squared_epsilon_insensitive'],\n                         'penalty': ['l1', 'l2'],\n                         'tol': [0.001, 0.0001, 1e-05]},\n             scoring='r2', verbose=3) \n\n Best params: {'alpha': 1e-05, 'learning_rate': 'adaptive', 'loss': 'squared_epsilon_insensitive', 'penalty': 'l1', 'tol': 0.001} \n"
     ]
    }
   ],
   "source": [
    "best_params = model.best_params_\n",
    "print(\"\\n\\n Model: {} \\n\\n Best params: {} \".format(model, best_params))"
   ]
  },
  {
   "cell_type": "code",
   "execution_count": 11,
   "metadata": {},
   "outputs": [
    {
     "output_type": "execute_result",
     "data": {
      "text/plain": [
       "SGDRegressor(alpha=1e-05, early_stopping=True, learning_rate='adaptive',\n",
       "             loss='squared_epsilon_insensitive', penalty='l1', random_state=42,\n",
       "             validation_fraction=0.2)"
      ]
     },
     "metadata": {},
     "execution_count": 11
    }
   ],
   "source": [
    "sgd = SGDRegressor(\n",
    "    random_state = 42,\n",
    "    shuffle= True, \n",
    "    early_stopping= True,\n",
    "    validation_fraction= 0.2,\n",
    "    loss = 'squared_epsilon_insensitive',\n",
    "    penalty = 'l1',\n",
    "    alpha = 1e-05,\n",
    "    learning_rate = 'adaptive',\n",
    "    tol = 0.001, \n",
    "\n",
    ")\n",
    "sgd.fit(X_train, y_train)"
   ]
  },
  {
   "cell_type": "code",
   "execution_count": 13,
   "metadata": {},
   "outputs": [
    {
     "output_type": "stream",
     "name": "stdout",
     "text": [
      "\n\n Train summary: \n\n\n\n\n R2 Score: 0.9499688690451299 \n\n\n MSE Score: 3039695.1716091353 \n\n\n MAE Score: 1124.2350642041351 \n\n\n Test summary: \n\n\n\n\n R2 Test Score: 0.9503455658056125 \n\n\n MSE Score: 2619006.1415181463 \n\n\n MAE Score: 1085.7797531133097 \n"
     ]
    }
   ],
   "source": [
    "print(\"\\n\\n Train summary: \\n\\n\")\n",
    "print(\"\\n\\n R2 Score: {} \".format(model.score(X_train, y_train)))\n",
    "\n",
    "y_train_pred = sgd.predict(X_train)\n",
    "print(\"\\n\\n MSE Score: {} \".format(mean_squared_error(y_train, y_train_pred)))\n",
    "print(\"\\n\\n MAE Score: {} \".format(mean_absolute_error(y_train, y_train_pred)))\n",
    "\n",
    "print(\"\\n\\n Test summary: \\n\\n\")\n",
    "y_test_pred = sgd.predict(X_test)\n",
    "\n",
    "print(\"\\n\\n R2 Test Score: {} \".format(model.score(X_test, y_test)))\n",
    "\n",
    "print(\"\\n\\n MSE Score: {} \".format(mean_squared_error(y_test, y_test_pred)))\n",
    "print(\"\\n\\n MAE Score: {} \".format(mean_absolute_error(y_test, y_test_pred)))"
   ]
  },
  {
   "cell_type": "code",
   "execution_count": 14,
   "metadata": {},
   "outputs": [
    {
     "output_type": "stream",
     "name": "stdout",
     "text": [
      "[13233.9367092   2708.7482805  27548.10541351 23462.20094868\n  3662.84483576 10571.55515894  3285.0298734  20020.33122668\n  1400.71838817 14443.87892858]\n[13796, 2467, 29209, 24099, 4501, 10469, 3997, 21627, 3101, 13540]\n"
     ]
    }
   ],
   "source": [
    "print(y_test_pred[:10])\n",
    "print(list(y_test[:10]))"
   ]
  },
  {
   "cell_type": "code",
   "execution_count": 19,
   "metadata": {},
   "outputs": [
    {
     "output_type": "stream",
     "name": "stdout",
     "text": [
      "Score: 0.9515730125936807\n"
     ]
    }
   ],
   "source": [
    "df = pd.read_csv(r'./Data/processed.csv')\n",
    "X = df.drop(['KWH'], axis=1)\n",
    "y = df['KWH']\n",
    "\n",
    "X_train, X_test, Y_train, Y_test = train_test_split(X, y, test_size=0.3, shuffle = True, random_state = 42)\n",
    "\n",
    "scaler = MinMaxScaler().fit(X_train)\n",
    "X_train = scaler.transform(X_train)\n",
    "X_test = scaler.transform(X_test)\n",
    "\n",
    "\n",
    "sgd = SGDRegressor(\n",
    "    random_state = 42,\n",
    "    shuffle= True, \n",
    "    early_stopping= True,\n",
    "    validation_fraction= 0.2,\n",
    "    loss = 'squared_epsilon_insensitive',\n",
    "    penalty = 'l1',\n",
    "    alpha = 1e-05,\n",
    "    learning_rate = 'adaptive',\n",
    "    tol = 0.001, \n",
    ")\n",
    "\n",
    "sgd.fit(X_train, Y_train)\n",
    "print(\"Score: {}\".format(sgd.score(X_test, Y_test)))"
   ]
  },
  {
   "cell_type": "code",
   "execution_count": 21,
   "metadata": {},
   "outputs": [
    {
     "output_type": "stream",
     "name": "stdout",
     "text": [
      "\n\n Train summary: \n\n\n\n\n R2 Score: 0.9599462478664899 \n\n\n MSE Score: 2433508.7902546925 \n\n\n MAE Score: 1048.8571534582022 \n\n\n Test summary: \n\n\n\n\n R2 Test Score: 0.9515730125936807 \n\n\n MSE Score: 2554264.8806721875 \n\n\n MAE Score: 1123.5811108095636 \n"
     ]
    }
   ],
   "source": [
    "print(\"\\n\\n Train summary: \\n\\n\")\n",
    "print(\"\\n\\n R2 Score: {} \".format(sgd.score(X_train, Y_train)))\n",
    "\n",
    "y_train_pred = sgd.predict(X_train)\n",
    "print(\"\\n\\n MSE Score: {} \".format(mean_squared_error(Y_train, y_train_pred)))\n",
    "print(\"\\n\\n MAE Score: {} \".format(mean_absolute_error(Y_train, y_train_pred)))\n",
    "\n",
    "print(\"\\n\\n Test summary: \\n\\n\")\n",
    "y_test_pred = sgd.predict(X_test)\n",
    "\n",
    "print(\"\\n\\n R2 Test Score: {} \".format(sgd.score(X_test, y_test)))\n",
    "\n",
    "print(\"\\n\\n MSE Score: {} \".format(mean_squared_error(Y_test, y_test_pred)))\n",
    "print(\"\\n\\n MAE Score: {} \".format(mean_absolute_error(Y_test, y_test_pred)))"
   ]
  }
 ]
}